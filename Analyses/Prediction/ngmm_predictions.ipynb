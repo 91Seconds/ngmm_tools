{
 "cells": [
  {
   "cell_type": "markdown",
   "id": "1fdc668f-faaa-40a5-b179-2d5258964ad1",
   "metadata": {},
   "source": [
    "# Non-Ergodic GMM Predictions\n",
    "\n",
    "This notebook is used to make predictions for new scenarios and events for non-ergodic ground motion models developed with the provided tools.\n",
    "\n",
    "This script was developed as part of the Non-ergodic Methodology and Modeling Tools research project summarized in the report by Lavrentiadis G., Kuehn N., Bozorgnia Y., Seylabi E., Meng X., Goulet C., and Kottke A. (2022), \"Non‐ergodic Methodology and Modeling Tools (Report GIRS-2022-04).\" Natural Hazards Risk and Resiliency Research Center, University of California, Los Angeles.\n",
    "\n",
    "Support provided by the California Department of Transportation (Caltrans) and Pacific Gas and Electric Company (PG&E) is gratefully acknowledged. "
   ]
  },
  {
   "cell_type": "markdown",
   "id": "16d1cdae-a52e-46c4-8d7f-42a95599b244",
   "metadata": {},
   "source": [
    "## Load Required Libraries "
   ]
  },
  {
   "cell_type": "code",
   "execution_count": null,
   "id": "b8159afc",
   "metadata": {},
   "outputs": [],
   "source": [
    "#load variables\n",
    "import os\n",
    "import sys\n",
    "import pathlib\n",
    "#arithmetic libraries\n",
    "import numpy as np\n",
    "#statistics libraries\n",
    "import pandas as pd\n",
    "#plot libraries\n",
    "import matplotlib as mpl\n",
    "import matplotlib.pyplot as plt\n",
    "import matplotlib.ticker as mticker\n",
    "import cartopy.crs as ccrs\n",
    "import cartopy.feature as cfeature\n",
    "\n",
    "#user functions\n",
    "sys.path.insert(0,'../Python_lib/ground_motions')\n",
    "import pylib_NGMM_prediction as pyngmm\n",
    "sys.path.insert(0,'../Python_lib/plotting')\n",
    "import pylib_contour_plots as pycplt"
   ]
  },
  {
   "cell_type": "markdown",
   "id": "6aecc42d-c6ed-4075-be44-fe7f91fcd845",
   "metadata": {},
   "source": [
    "## Input"
   ]
  },
  {
   "cell_type": "code",
   "execution_count": null,
   "id": "637bedba-41e6-418f-8a8a-4a8f56b25e22",
   "metadata": {},
   "outputs": [],
   "source": [
    "#number of samples\n",
    "n_samp = 10"
   ]
  },
  {
   "cell_type": "markdown",
   "id": "85542c70-fe69-4980-96e9-2cf1033df642",
   "metadata": {},
   "source": [
    "### Regression Files\n",
    "The following block specifies the paths for the outpput regression files."
   ]
  },
  {
   "cell_type": "code",
   "execution_count": null,
   "id": "52cf42a3-f88d-40ec-9c20-0776ac401c14",
   "metadata": {},
   "outputs": [],
   "source": [
    "#hyper-parameters\n",
    "fname_hyp    = '../../Data/Regression/example_ds2_inla/example_regression_ds2_inla_inla_hyperparameters.csv'\n",
    "#non-ergodic coefficients\n",
    "fname_coeffs = '../../Data/Regression/example_ds2_inla/example_regression_ds2_inla_inla_coefficients.csv'\n",
    "#non-ergodic anelastic attenuation\n",
    "fname_cellinfo  = '../../Data/Flatfiles/examp_datasets/CatalogNGAWest3CALite_cellinfo.csv'\n",
    "fname_cellatten = '../../Data/Regression/example_ds2_inla/example_regression_ds2_inla_inla_catten.csv'\n",
    "\n",
    "#read regression files\n",
    "df_nerg_hyp       = pd.read_csv(fname_hyp,       index_col=0)\n",
    "df_nerg_coeffs    = pd.read_csv(fname_coeffs,    index_col=0)\n",
    "df_nerg_cellinfo  = pd.read_csv(fname_cellinfo,  index_col=0)\n",
    "df_nerg_cellatten = pd.read_csv(fname_cellatten, index_col=0)"
   ]
  },
  {
   "cell_type": "markdown",
   "id": "44c5a12e-9098-4203-aea2-ee133064e9c7",
   "metadata": {},
   "source": [
    "### Prediction Files\n",
    "\n",
    "The next block specifies the path for the flatfile for the ground-motion predictions."
   ]
  },
  {
   "cell_type": "code",
   "execution_count": null,
   "id": "1ed245a4-21cd-49d8-a8c5-ea25d13a45f6",
   "metadata": {},
   "outputs": [],
   "source": [
    "#prediction scenarios\n",
    "fname_scen = '../../Data/Prediction/scen_predict.csv'\n",
    "\n",
    "#read prediction scenario\n",
    "df_predict = pd.read_csv(fname_scen, index_col=0)"
   ]
  },
  {
   "cell_type": "markdown",
   "id": "36f14ff2-6fb5-49ea-807c-55033f69e97b",
   "metadata": {},
   "source": [
    "### Output File\n",
    "Specifed the location of the output file for the generated scenarios"
   ]
  },
  {
   "cell_type": "code",
   "execution_count": null,
   "id": "1d9006a7-a3c8-40ed-a4d9-a8a461ba5b78",
   "metadata": {},
   "outputs": [],
   "source": [
    "fname_predict_out = '../../Data/Prediction/scen_nerg_predict.csv'"
   ]
  },
  {
   "cell_type": "markdown",
   "id": "fbced431-68c0-4954-a81c-3ea08d95bef1",
   "metadata": {},
   "source": [
    "### Non-ergodic Functional Form\n",
    "The `nerg_coeff_info` dictionary specifies the structure of the spatially varying coefficient component of the non-ergodic ground motion model. \n",
    "The `nerg_atten_info` dictionary specifies the structure of the cell-specific anelastic attenuation."
   ]
  },
  {
   "cell_type": "code",
   "execution_count": null,
   "id": "4b08a7a9-1dcd-4bd0-97b6-1b3c7fd033b2",
   "metadata": {},
   "outputs": [],
   "source": [
    "# Non-ergodic Functional Form\n",
    "# -----------------------\n",
    "#non-ergodic coefficient information\n",
    "nerg_coeff_info = {'dc0':   {'coeff': ['dc_0_mean','dc_0_sig'],     'scaling':None, \n",
    "                             'kernel_type':0},\n",
    "                   'dc1e':  {'coeff': ['dc_1e_mean','dc_1e_sig'],   'scaling':None, 'cor_info':['eqX','eqY'],\n",
    "                             'kernel_type':2, \n",
    "                             'hyp':{'ell':df_nerg_hyp.loc['mean','ell_1e'], 'omega':df_nerg_hyp.loc['mean','omega_1e'], 'nu:':1.5}},\n",
    "                   'dc1as': {'coeff': ['dc_1as_mean','dc_1as_sig'], 'scaling':None, 'cor_info':['staX','staY'],\n",
    "                             'kernel_type':2,\n",
    "                             'hyp':{'ell':df_nerg_hyp.loc['mean','ell_1as'], 'omega':df_nerg_hyp.loc['mean','omega_1as'], 'nu:':1.5}},\n",
    "                   'dc1bs': {'coeff': ['dc_1bs_mean','dc_1bs_sig'], 'scaling':None, 'cor_info':'ssn',\n",
    "                             'kernel_type':1,\n",
    "                             'hyp':{'omega':df_nerg_hyp.loc['mean','omega_1bs']}}\n",
    "                   }\n",
    "\n",
    "#cell-specific anelastic attenuation infromation\n",
    "nerg_atten_info = {'cap':    {'catten': ['c_cap_mean','c_cap_sig'],  'cor_info':'cellid',\n",
    "                              'kernel_type':1,\n",
    "                              'hyp':{'mean_ca': df_nerg_hyp.loc['mean','mu_cap'], 'omega':df_nerg_hyp.loc['mean','omega_cap']}}\n",
    "                   }"
   ]
  },
  {
   "cell_type": "markdown",
   "id": "8b3291dd-8230-4917-8fd3-ffb9a4359d0d",
   "metadata": {},
   "source": [
    "## Non-Ergodic Predictions"
   ]
  },
  {
   "cell_type": "code",
   "execution_count": null,
   "id": "9850d5e4-6de0-4852-89ea-16f6f25dc458",
   "metadata": {},
   "outputs": [],
   "source": [
    "ngmm_prdct_samp, _, _, ngmm_prdct_mu, ngmm_prdct_sig, _, _ = pyngmm.PredictNErgEffects(n_samp, nerg_coeff_info, df_predict,  df_nerg_coeffs, \n",
    "                                                                                       nerg_catten_info=nerg_atten_info, \n",
    "                                                                                       df_cell_info=df_nerg_cellinfo, \n",
    "                                                                                       df_nerg_cellatten=df_nerg_cellatten)"
   ]
  },
  {
   "cell_type": "markdown",
   "id": "c46639a8-3fc8-4b9f-9dc1-106df5d6d749",
   "metadata": {},
   "source": [
    "## Output"
   ]
  },
  {
   "cell_type": "code",
   "execution_count": null,
   "id": "4870e24f-ea42-499b-83c2-a4fb62144b95",
   "metadata": {},
   "outputs": [],
   "source": [
    "#median ngmm\n",
    "df_predict['nerg_mu']  = df_predict.erg_base.values * np.exp(ngmm_prdct_mu)\n",
    "#epistemic uncertainty\n",
    "df_predict['nerg_sig'] = ngmm_prdct_sig\n",
    "#random realizations\n",
    "cname = [f'nerg_rlz_%i'%k for k in range(n_samp)]\n",
    "df_predict[cname] = df_predict.erg_base.values[:,np.newaxis] * np.exp(ngmm_prdct_samp)\n",
    "\n",
    "df_predict.to_csv(fname_predict_out)"
   ]
  },
  {
   "cell_type": "markdown",
   "id": "3ae46634-751c-4410-a67c-3def4264700f",
   "metadata": {},
   "source": [
    "### Summary Plots"
   ]
  },
  {
   "cell_type": "code",
   "execution_count": null,
   "id": "9ea33290-baf1-4ba2-85f8-60527c2ad74d",
   "metadata": {},
   "outputs": [],
   "source": [
    "#median ground motion\n",
    "fname_fig = 'examp_eas_med'\n",
    "cbar_label = r'$EAS_{nerg, med}$ (g sec)'\n",
    "data2plot  = df_predict[['staLat','staLon','nerg_mu']].values\n",
    "fig, ax, cbar, data_crs, _ = pycplt.PlotScatterCAMap(data2plot, cmap='RdYlBu_r', log_cbar=True, marker_size=60,\n",
    "                                                     frmt_clb = '%.0E')\n",
    "#update colorbar\n",
    "cbar.ax.tick_params(tick1On=1, labelsize=30)\n",
    "cbar.set_label(cbar_label, size=35)\n",
    "#grid lines\n",
    "gl = ax.gridlines(draw_labels=True)\n",
    "gl.xlabels_top = False\n",
    "gl.ylabels_right = False\n",
    "gl.xlabel_style = {'size': 30}\n",
    "gl.ylabel_style = {'size': 30}\n",
    "gl.xlocator = mticker.FixedLocator([-123, -119, -115])\n",
    "gl.ylocator = mticker.FixedLocator([ 33,   37,   41])\n",
    "#add water bodies\n",
    "oceans = cfeature.NaturalEarthFeature(category='physical', name='ocean',\n",
    "                                      scale='50m')\n",
    "ax.add_feature(oceans, zorder=50)\n",
    "#apply tight layout\n",
    "fig.tight_layout()"
   ]
  },
  {
   "cell_type": "code",
   "execution_count": null,
   "id": "2304f00a-57bd-44ad-a5d2-11e7a4293c9e",
   "metadata": {},
   "outputs": [],
   "source": [
    "#epistemic uncertainty\n",
    "fname_fig = 'examp_eas_unc'\n",
    "cbar_label = r'$\\psi$'\n",
    "data2plot  = df_predict[['staLat','staLon','nerg_sig']].values\n",
    "fig, ax, cbar, data_crs, _ = pycplt.PlotScatterCAMap(data2plot, cmap='RdYlBu_r', log_cbar=False, marker_size=60,\n",
    "                                                     frmt_clb = '%.2f')\n",
    "#update colorbar\n",
    "cbar.ax.tick_params(tick1On=1, labelsize=30)\n",
    "cbar.set_label(cbar_label, size=35)\n",
    "#grid lines\n",
    "gl = ax.gridlines(draw_labels=True)\n",
    "gl.xlabels_top = False\n",
    "gl.ylabels_right = False\n",
    "gl.xlabel_style = {'size': 30}\n",
    "gl.ylabel_style = {'size': 30}\n",
    "gl.xlocator = mticker.FixedLocator([-123, -119, -115])\n",
    "gl.ylocator = mticker.FixedLocator([ 33,   37,   41])\n",
    "#add water bodies\n",
    "oceans = cfeature.NaturalEarthFeature(category='physical', name='ocean',\n",
    "                                      scale='50m')\n",
    "ax.add_feature(oceans, zorder=50)\n",
    "#apply tight layout\n",
    "fig.tight_layout()"
   ]
  },
  {
   "cell_type": "code",
   "execution_count": null,
   "id": "6797b163-2fd8-4416-9ee0-abf1d649f9de",
   "metadata": {},
   "outputs": [],
   "source": [
    "#random realization\n",
    "fname_fig = 'examp_eas_realiz'\n",
    "cbar_label = r'$EAS_{nerg, realiz}$ (g sec)'\n",
    "data2plot  = df_predict[['staLat','staLon','nerg_rlz_1']].values\n",
    "fig, ax, cbar, data_crs, _ = pycplt.PlotScatterCAMap(data2plot, cmap='RdYlBu_r', log_cbar=True, marker_size=60,\n",
    "                                                     frmt_clb = '%.0E')\n",
    "#update colorbar\n",
    "cbar.ax.tick_params(tick1On=1, labelsize=30)\n",
    "cbar.set_label(cbar_label, size=35)\n",
    "#grid lines\n",
    "gl = ax.gridlines(draw_labels=True)\n",
    "gl.xlabels_top = False\n",
    "gl.ylabels_right = False\n",
    "gl.xlabel_style = {'size': 30}\n",
    "gl.ylabel_style = {'size': 30}\n",
    "gl.xlocator = mticker.FixedLocator([-123, -119, -115])\n",
    "gl.ylocator = mticker.FixedLocator([ 33,   37,   41])\n",
    "#add water bodies\n",
    "oceans = cfeature.NaturalEarthFeature(category='physical', name='ocean',\n",
    "                                      scale='50m')\n",
    "ax.add_feature(oceans, zorder=50)\n",
    "#apply tight layout\n",
    "fig.tight_layout()"
   ]
  }
 ],
 "metadata": {
  "kernelspec": {
   "display_name": "Python 3 (ipykernel)",
   "language": "python",
   "name": "python3"
  },
  "language_info": {
   "codemirror_mode": {
    "name": "ipython",
    "version": 3
   },
   "file_extension": ".py",
   "mimetype": "text/x-python",
   "name": "python",
   "nbconvert_exporter": "python",
   "pygments_lexer": "ipython3",
   "version": "3.8.13"
  }
 },
 "nbformat": 4,
 "nbformat_minor": 5
}
