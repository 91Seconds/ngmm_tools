{
 "cells": [
  {
   "cell_type": "markdown",
   "id": "4518a036",
   "metadata": {},
   "source": [
    "# Non-Ergodic GMM Regression (Type-1) using INLA\n",
    "\n",
    "This notebook is used to estimate the non-ergodic coefficients and hyper-parameters of a type-1 non-ergodic GMM though Gaussian Process regression using the Bayesian software INLA. \n",
    "\n",
    "The Type-1 GMM compnents are:\n",
    "- The non-ergodic effects are modeled by:\n",
    "  - $\\delta c_{0}$:    constant shift of non-ergodic GMM with respect to base ergodic GMM\n",
    "  - $\\delta c_{1,E}$:  spatially varying eathquake adjustment as a function of the earthquake coordinates\n",
    "  - $\\delta c_{1a,S}$: spatially varying site adjustment as a function of the site coordinates\n",
    "  - $\\delta c_{1b,S}$: spatially independent site adjustment as a function of the station id\n",
    "- The aleatory variability is captured by:\n",
    "  - $\\delta B^0_{e}$: between-event aleatory term\n",
    "  - $\\delta W^0_{e,s}$: within-event aleatory term\n",
    "- The non-ergodic hyperparameters are:\n",
    "  - $\\ell_{1,E}$:    correlation lenght of spatially varying earthquake adjustment\n",
    "  - $\\ell_{1a,S}$:   correlation lenght of spatially varying site adjustment\n",
    "  - $\\omega_{1,E}$:  scale of spatially varying earthquake adjustment \n",
    "  - $\\omega_{1a,S}$: scale of spatially varying site adjustment\n",
    "  - $\\omega_{1b,S}$: scale of spatially independent site adjustment\n",
    "  - $\\tau_{0}$:      standard deviation of between-event aleatory\n",
    "  - $\\phi_{0}$:      standard deviation of within-event aleatory\n",
    "\n",
    "**Disclaimer:** The non-ergodic regression is perfomed on the total residuals (column ``res_name``) of a base ergodic GMM. \n",
    "The total regression residuals ($\\epsilon_{tot}$) are defined as:\n",
    "$$\n",
    "\\epsilon_{tot} = log(IM) - \\mu_{erg}(M,R_{rup},V_{S30}, ...) \n",
    "$$\n",
    "where $IM$ is the intesity parameter of interest (e.g. PGA, PSA) and $\\mu_{erg}$ is mean functional form of the ergodic GMM in log space. \n",
    "\n",
    "This script was developed as part of the Non-ergodic Methodology and Modeling Tools research project summarized in the report by Lavrentiadis G., Kuehn N., Bozorgnia Y., Seylabi E., Meng X., Goulet C., and Kottke A. (2022), \"Non‐ergodic Methodology and Modeling Tools (Report GIRS-2022-04).\" Natural Hazards Risk and Resiliency Research Center, University of California, Los Angeles.\n",
    "\n",
    "Support provided by the California Department of Transportation (Caltrans) and Pacific Gas and Electric Company (PG&E) is gratefully acknowledged. "
   ]
  },
  {
   "cell_type": "markdown",
   "id": "3b924f43",
   "metadata": {},
   "source": [
    "## Load required functions"
   ]
  },
  {
   "cell_type": "code",
   "execution_count": null,
   "id": "eaa84e04",
   "metadata": {},
   "outputs": [],
   "source": [
    "#libraries\n",
    "library(pracma)\n",
    "library(ggplot2)\n",
    "library(maps) \n",
    "#user functions\n",
    "source('../R_lib/regression/inla/regression_inla_model1_unbounded_hyp.R')"
   ]
  },
  {
   "cell_type": "markdown",
   "id": "30b19431",
   "metadata": {},
   "source": [
    "## User Input, Definition of Regression Parameters \n",
    "The 1st synthetic dataset based the NGAWest3 CA metadata for the type-1 NGMM is used as an example.\n",
    "The user should update the variables in this section to point to the regression dataset of interest."
   ]
  },
  {
   "cell_type": "code",
   "execution_count": null,
   "id": "31cbb2ac",
   "metadata": {},
   "outputs": [],
   "source": [
    "#regression name\n",
    "reg_name  <- 'example_regression_ds1_inla'\n",
    "\n",
    "#regression dataset\n",
    "flatfile_fname <- '../../Data/Flatfiles/examp_datasets/CatalogNGAWest3CALite_synthetic_data_ngmm1_small_corr_len_Y1.csv'\n",
    "\n",
    "#output directory\n",
    "dir_out <- '../../Data/Regression/example_ds1_inla/'\n",
    "\n",
    "#INLA regression parameters\n",
    "runinla_flag <- TRUE # TRUE or FALSE\n",
    "res_name     <- 'tot'\n",
    "\n",
    "#mesh coarseness\n",
    "# #fine\n",
    "# mesh_edge_max     <- 5\n",
    "# mesh_inner_offset <- 15\n",
    "# mesh_outer_offset <- 15\n",
    "# #medium\n",
    "# mesh_edge_max     <- 15\n",
    "# mesh_inner_offset <- 15\n",
    "# mesh_outer_offset <- 50\n",
    "#coarse\n",
    "mesh_edge_max     <- 50\n",
    "mesh_inner_offset <- 50\n",
    "mesh_outer_offset <- 150\n",
    "\n",
    "#approximation options\n",
    "# if flag_gp_approx=TRUE uses int.strategy=\"eb\" and strategy=\"gaussian\"\n",
    "# int.strategy=\"eb\" corresponds to one integration point, and \n",
    "# strategy=\"gaussian\" approximates posteriors as gaussian distributions\n",
    "flag_gp_approx <- TRUE # TRUE or FALSE\n",
    "\n",
    "#number of threads\n",
    "# reduce number of threads if running out of memmory, if not specified\n",
    "# number of CPU threads is used\n",
    "n_threads <- 8"
   ]
  },
  {
   "cell_type": "markdown",
   "id": "0d7204f1",
   "metadata": {},
   "source": [
    "## Load Files"
   ]
  },
  {
   "cell_type": "code",
   "execution_count": null,
   "id": "5bfcefeb",
   "metadata": {},
   "outputs": [],
   "source": [
    "#load flatfile\n",
    "df_flatfile <- read.csv(flatfile_fname)"
   ]
  },
  {
   "cell_type": "markdown",
   "id": "850206f0",
   "metadata": {},
   "source": [
    "## Preprocessing \n",
    "This section can be used by the user for any pre-porcessing steps of the regression dataset."
   ]
  },
  {
   "cell_type": "code",
   "execution_count": null,
   "id": "3c887d93",
   "metadata": {},
   "outputs": [],
   "source": []
  },
  {
   "cell_type": "markdown",
   "id": "fd6bfb81",
   "metadata": {},
   "source": [
    "## Run Regression"
   ]
  },
  {
   "cell_type": "code",
   "execution_count": null,
   "id": "abb82f7c",
   "metadata": {},
   "outputs": [],
   "source": [
    "print(paste(\"Running regression for: \",reg_name))\n",
    "\n",
    "#run time start\n",
    "run_t_strt <- Sys.time()\n",
    "\n",
    "#run INLA model\n",
    "RunINLA(df_flatfile, reg_name, dir_out, res_name=res_name, \n",
    "        runinla_flag=runinla_flag,\n",
    "        mesh_edge_max=mesh_edge_max, \n",
    "        mesh_inner_offset=mesh_inner_offset, mesh_outer_offset=mesh_outer_offset,\n",
    "        flag_gp_approx=flag_gp_approx,\n",
    "        n_threads=n_threads)\n",
    "\n",
    "#run time end\n",
    "run_t_end <- Sys.time()\n",
    "\n",
    "#compute run time\n",
    "run_tm <- run_t_end - run_t_strt\n",
    "\n",
    "#log run time\n",
    "df_run_info <- data.frame(computer_name=Sys.info()[\"nodename\"], reg_name=reg_name, run_time=run_tm)\n",
    "\n",
    "#write out run info\n",
    "write.csv(df_run_info, sprintf('%s/run_info.csv', dir_out), row.names=FALSE)\n",
    "\n",
    "print(paste(\"Completed regression for: \",reg_name))"
   ]
  },
  {
   "cell_type": "markdown",
   "id": "9fdd35a8",
   "metadata": {},
   "source": [
    "## Regression Review\n",
    "The next code chunks produce summary plots to review the regression fit"
   ]
  },
  {
   "cell_type": "code",
   "execution_count": null,
   "id": "195d5ee4",
   "metadata": {},
   "outputs": [],
   "source": [
    "#load non-ergodic coefficients and residuals\n",
    "fname_hparam  <- file.path(dir_out, paste0(reg_name,'_inla_hyperparameters.csv'))\n",
    "fname_gmotion <- file.path(dir_out, paste0(reg_name,'_inla_residuals.csv'))\n",
    "fname_coeff   <- file.path(dir_out, paste0(reg_name,'_inla_coefficients.csv'))\n",
    "df_hparam  <- read.csv(fname_hparam)\n",
    "df_gmotion <- read.csv(fname_gmotion)\n",
    "df_coeff   <- read.csv(fname_coeff)\n",
    "\n",
    "#merge gm-flatfile with non-ergodic coeffs and res \n",
    "df_gmotion <- merge(df_flatfile,df_gmotion)\n",
    "df_coeff   <- merge(df_flatfile,df_coeff)\n",
    "\n",
    "#print mean and standard deviations of aleatory terms\n",
    "fprintf('Between-event mean:\\t %.3f\\n', mean(df_gmotion$res_between))\n",
    "fprintf('Within-event mean:\\t %.3f\\n',  mean(df_gmotion$res_within))\n",
    "fprintf('Between-event std:\\t %.3f\\n',  sd(df_gmotion$res_between))\n",
    "fprintf('Within-event std:\\t %.3f\\n',   sd(df_gmotion$res_within))"
   ]
  },
  {
   "cell_type": "markdown",
   "id": "d4c9aec5",
   "metadata": {},
   "source": [
    "### Non-ergodic Residuals"
   ]
  },
  {
   "cell_type": "code",
   "execution_count": null,
   "id": "ce1f0483",
   "metadata": {},
   "outputs": [],
   "source": [
    "#between-event residuals \n",
    "pl_dB_mag <- ggplot(df_gmotion, aes(mag, res_between)) + theme_bw() +\n",
    "              geom_point() + geom_hline(yintercept=0,linetype=\"dashed\") +\n",
    "              labs(x='magnitude', y='between-event residuals') + \n",
    "              theme(axis.title = element_text(size=20), \n",
    "                    axis.text.y = element_text(size=20), axis.text.x = element_text(size=20))\n",
    "\n",
    "#within-event residuals \n",
    "pl_dW_mag <- ggplot(df_gmotion, aes(mag, res_within)) + theme_bw() +\n",
    "              geom_point() + geom_hline(yintercept=0,linetype=\"dashed\") +\n",
    "              labs(x='magnitude', y='within-event residuals') + \n",
    "              theme(axis.title = element_text(size=20), \n",
    "                    axis.text.y = element_text(size=20), axis.text.x = element_text(size=20))\n",
    "\n",
    "pl_dW_Rrup <- ggplot(df_gmotion, aes(Rrup, res_within)) + theme_bw() +\n",
    "               geom_point() + geom_hline(yintercept=0,linetype=\"dashed\") +\n",
    "               labs(x='rupture distance', y='within-event residuals') + \n",
    "               theme(axis.title = element_text(size=20), \n",
    "                     axis.text.y = element_text(size=20), axis.text.x = element_text(size=20))\n",
    "\n",
    "print(pl_dB_mag)\n",
    "print(pl_dW_mag)\n",
    "print(pl_dW_Rrup)"
   ]
  },
  {
   "cell_type": "markdown",
   "id": "7a2793c2",
   "metadata": {},
   "source": [
    "### Non-ergodic Coefficients"
   ]
  },
  {
   "cell_type": "code",
   "execution_count": null,
   "id": "d6a5e48b",
   "metadata": {},
   "outputs": [],
   "source": [
    "#spatially varying earthquake adjustment\n",
    "pl_dc1e_mu_mag <- ggplot(df_coeff, aes(mag, dc_1e_mean)) + theme_bw() +\n",
    "                    geom_point() + geom_hline(yintercept=0,linetype=\"dashed\") +\n",
    "                    labs(x='magnitude', y='mu(delta c_1e)') + \n",
    "                    theme(axis.title = element_text(size=20), \n",
    "                          axis.text.y = element_text(size=20), axis.text.x = element_text(size=20))\n",
    "\n",
    "#spatially varying site adjustment\n",
    "pl_dc1as_mu_vs30 <- ggplot(df_coeff, aes(log(Vs30), dc_1as_mean)) + theme_bw() +\n",
    "                      geom_point() + geom_hline(yintercept=0,linetype=\"dashed\") +\n",
    "                      labs(x='log V_S30', y='mu(delta c_1as)') + \n",
    "                      theme(axis.title = element_text(size=20), \n",
    "                            axis.text.y = element_text(size=20), axis.text.x = element_text(size=20))\n",
    "\n",
    "#spatially independent site adjustment\n",
    "pl_dc1bs_mu_vs30 <- ggplot(df_coeff, aes(log(Vs30), dc_1bs_mean)) + theme_bw() +\n",
    "                      geom_point() + geom_hline(yintercept=0,linetype=\"dashed\") +\n",
    "                      labs(x='log V_S30', y='mu(delta c_1bs)') + \n",
    "                      theme(axis.title = element_text(size=20), \n",
    "                            axis.text.y = element_text(size=20), axis.text.x = element_text(size=20))\n",
    "\n",
    "print(pl_dc1e_mu_mag)\n",
    "print(pl_dc1as_mu_vs30)\n",
    "print(pl_dc1bs_mu_vs30)"
   ]
  },
  {
   "cell_type": "code",
   "execution_count": null,
   "id": "8790b0a8",
   "metadata": {},
   "outputs": [],
   "source": [
    "#UTM zone\n",
    "utm_zone <- unique(df_flatfile$UTMzone)\n",
    "utm_no   <- as.numeric(gsub(\"([0-9]+).*$\", \"\\\\1\", utm_zone))\n",
    "#California\n",
    "map_ca     <- subset( map_data(\"state\"), region %in% c(\"california\"))\n",
    "map_ca_utm <- LongLatToUTM(lat=map_ca$lat, lon=map_ca$long, utm_no)\n",
    "map_ca[,c('X','Y')] <- map_ca_utm[,c('X','Y')]/1000\n",
    "#Nevada\n",
    "map_nv     <- subset( map_data(\"state\"), region %in% c(\"nevada\"))\n",
    "map_nv_utm <- LongLatToUTM(lat=map_nv$lat, lon=map_nv$long, utm_no)\n",
    "map_nv[,c('X','Y')] <- map_nv_utm[,c('X','Y')]/1000\n",
    "\n",
    "#base map\n",
    "pl_map <- ggplot() + theme_bw() +\n",
    "            geom_path(data=map_ca, aes(x=X,y=Y), color='black') + \n",
    "            geom_path(data=map_nv, aes(x=X,y=Y), color='black')\n",
    "\n",
    "#spatially varying earthquake adjustment\n",
    "pl_dc1e_mu_map <- pl_map + geom_point(data=df_coeff, aes(eqX, eqY, color=dc_1e_mean)) +\n",
    "                      scale_color_gradientn(colours = rainbow(10)) +\n",
    "                      labs(x='X (km)', y='Y (km)', color='mu(delta c_1,E)') + \n",
    "                      theme(axis.title = element_text(size=20), \n",
    "                            axis.text.y = element_text(size=20), axis.text.x = element_text(size=20),\n",
    "                            legend.text=element_text(size=20), legend.title=element_text(size=20))\n",
    "\n",
    "pl_dc1e_sd_map <- pl_map + geom_point(data=df_coeff, aes(eqX, eqY, color=dc_1e_sig)) +\n",
    "                      scale_color_gradientn(colours = rev(rainbow(10))) +\n",
    "                      labs(x='X (km)', y='Y (km)', color='sd(delta c_1,E)') + \n",
    "                      theme(axis.title = element_text(size=20), \n",
    "                            axis.text.y = element_text(size=20), axis.text.x = element_text(size=20),\n",
    "                            legend.text=element_text(size=20), legend.title=element_text(size=20))\n",
    "\n",
    "#spatially varying site adjustment\n",
    "pl_dc1as_mu_map <- pl_map + geom_point(data=df_coeff, aes(staX, staY, color=dc_1as_mean)) +\n",
    "                      scale_color_gradientn(colours = rainbow(10)) +\n",
    "                      labs(x='X (km)', y='Y (km)', color='mu(delta c_1a,S)') + \n",
    "                      theme(axis.title = element_text(size=20), \n",
    "                            axis.text.y = element_text(size=20), axis.text.x = element_text(size=20),\n",
    "                            legend.text=element_text(size=20), legend.title=element_text(size=20))\n",
    "\n",
    "pl_dc1as_sd_map <- pl_map + geom_point(data=df_coeff, aes(staX, staY, color=dc_1as_sig)) +\n",
    "                      scale_color_gradientn(colours = rev(rainbow(10))) +\n",
    "                      labs(x='X (km)', y='Y (km)', color='sd(delta c_1a,S)') + \n",
    "                      theme(axis.title = element_text(size=20), \n",
    "                            axis.text.y = element_text(size=20), axis.text.x = element_text(size=20),\n",
    "                            legend.text=element_text(size=20), legend.title=element_text(size=20))\n",
    "\n",
    "#spatially independent site adjustment\n",
    "pl_dc1bs_mu_map <- pl_map + geom_point(data=df_coeff, aes(staX, staY, color=dc_1bs_mean)) +\n",
    "                      scale_color_gradientn(colours = rainbow(10)) +\n",
    "                      labs(x='X (km)', y='Y (km)', color='mu(delta c_1b,S)') + \n",
    "                      theme(axis.title = element_text(size=20), \n",
    "                            axis.text.y = element_text(size=20), axis.text.x = element_text(size=20),\n",
    "                            legend.text=element_text(size=20), legend.title=element_text(size=20))\n",
    "\n",
    "pl_dc1bs_sd_map <- pl_map + geom_point(data=df_coeff, aes(staX, staY, color=dc_1bs_sig)) +\n",
    "                      scale_color_gradientn(colours = rev(rainbow(10))) +\n",
    "                      labs(x='X (km)', y='Y (km)', color='sd(delta c_1b,S)') + \n",
    "                      theme(axis.title = element_text(size=20), \n",
    "                            axis.text.y = element_text(size=20), axis.text.x = element_text(size=20),\n",
    "                            legend.text=element_text(size=20), legend.title=element_text(size=20))"
   ]
  },
  {
   "cell_type": "code",
   "execution_count": null,
   "id": "0fd5e76b",
   "metadata": {},
   "outputs": [],
   "source": [
    "print(pl_dc1e_mu_map)\n",
    "print(pl_dc1e_sd_map)"
   ]
  },
  {
   "cell_type": "code",
   "execution_count": null,
   "id": "47f4f0d8",
   "metadata": {},
   "outputs": [],
   "source": [
    "print(pl_dc1as_mu_map)\n",
    "print(pl_dc1as_sd_map)"
   ]
  },
  {
   "cell_type": "code",
   "execution_count": null,
   "id": "d9b36db1",
   "metadata": {},
   "outputs": [],
   "source": [
    "print(pl_dc1bs_mu_map)\n",
    "print(pl_dc1bs_sd_map)"
   ]
  }
 ],
 "metadata": {
  "authors": [
   {
    "name": "Grigorios Lavrentiadis: NHR3 GRIS UCLA, MCE Caltech"
   },
   {
    "name": "Elnaz Seylabi, CEE UNR"
   },
   {
    "name": "Nicolas Kuehn, NHR3 GRIS UCLA"
   },
   {
    "name": "Xiaofeng Meng: SCEC USC"
   },
   {
    "name": "Yousef Bozorgnia: NHR3 GRIS UCLA"
   },
   {
    "name": "Kottke Albert: PG/&E Geosciences"
   }
  ],
  "kernelspec": {
   "display_name": "R",
   "language": "R",
   "name": "ir"
  },
  "language_info": {
   "codemirror_mode": "r",
   "file_extension": ".r",
   "mimetype": "text/x-r-source",
   "name": "R",
   "pygments_lexer": "r",
   "version": "4.2.1"
  },
  "title": "NGMM Type-1 INLA Regression"
 },
 "nbformat": 4,
 "nbformat_minor": 5
}
