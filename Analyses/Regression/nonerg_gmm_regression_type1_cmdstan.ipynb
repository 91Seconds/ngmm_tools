{
 "cells": [
  {
   "cell_type": "markdown",
   "id": "77ffcd6f",
   "metadata": {},
   "source": [
    "# Non-Ergodic GMM Regression (Type-1) using STAN, CMSTAN Library\n",
    "\n",
    "This notebook is used to estimate the non-ergodic coefficients and hyper-parameters of a type-1 non-ergodic GMM though Gaussian Process regression using the Bayesian software STAN. \n",
    "\n",
    "The Type-1 GMM compnents are:\n",
    "- The non-ergodic effects are modeled by:\n",
    "  - $\\delta c_{0}$:    constant shift of non-ergodic GMM with respect to base ergodic GMM\n",
    "  - $\\delta c_{1,E}$:  spatially varying eathquake adjustment as a function of the earthquake coordinates\n",
    "  - $\\delta c_{1a,S}$: spatially varying site adjustment as a function of the site coordinates\n",
    "  - $\\delta c_{1b,S}$: spatially independent site adjustment as a function of the station id\n",
    "- The aleatory variability is captured by:\n",
    "  - $\\delta B^0_{e}$: between-event aleatory term\n",
    "  - $\\delta W^0_{e,s}$: within-event aleatory term\n",
    "- The non-ergodic hyperparameters are:\n",
    "  - $\\ell_{1,E}$:    correlation lenght of spatially varying earthquake adjustment\n",
    "  - $\\ell_{1a,S}$:   correlation lenght of spatially varying site adjustment\n",
    "  - $\\omega_{1,E}$:  scale of spatially varying earthquake adjustment \n",
    "  - $\\omega_{1a,S}$: scale of spatially varying site adjustment\n",
    "  - $\\omega_{1b,S}$: scale of spatially independent site adjustment\n",
    "  - $\\tau_{0}$:      standard deviation of between-event aleatory\n",
    "  - $\\phi_{0}$:      standard deviation of within-event aleatory\n",
    "\n",
    "**Disclaimer:** The non-ergodic regression is perfomed on the total residuals (column ``res_name``) of a base ergodic GMM. \n",
    "The total regression residuals ($\\epsilon_{tot}$) are defined as:\n",
    "$$\n",
    "\\epsilon_{tot} = log(IM) - \\mu_{erg}(M,R_{rup},V_{S30}, ...) \n",
    "$$\n",
    "where $IM$ is the intesity parameter of interest (e.g. PGA, PSA) and $\\mu_{erg}$ is mean functional form of the ergodic GMM in log space. \n",
    "\n",
    "\n",
    "This script was developed as part of the Non-ergodic Methodology and Modeling Tools research project summarized in the report by Lavrentiadis G., Kuehn N., Bozorgnia Y., Seylabi E., Meng X., Goulet C., and Kottke A. (2022), \"Non‐ergodic Methodology and Modeling Tools (Report GIRS-2022-04).\" Natural Hazards Risk and Resiliency Research Center, University of California, Los Angeles.\n",
    "\n",
    "Support provided by the California Department of Transportation (Caltrans) and Pacific Gas and Electric Company (PG&E) is gratefully acknowledged. "
   ]
  },
  {
   "cell_type": "markdown",
   "id": "8a4a7aa7",
   "metadata": {},
   "source": [
    "## Load required libraries"
   ]
  },
  {
   "cell_type": "code",
   "execution_count": 1,
   "id": "627e7a80",
   "metadata": {},
   "outputs": [],
   "source": [
    "import os\n",
    "import sys\n",
    "import numpy as np\n",
    "import pandas as pd\n",
    "import time\n",
    "import matplotlib as mpl\n",
    "import matplotlib.pyplot as plt\n",
    "import matplotlib.ticker as mticker\n",
    "#user functions\n",
    "sys.path.insert(0,'../Python_lib/regression/cmdstan')\n",
    "sys.path.insert(0,'../Python_lib/plotting')\n",
    "import pylib_contour_plots as pycplt"
   ]
  },
  {
   "cell_type": "markdown",
   "id": "c45c0d91",
   "metadata": {},
   "source": [
    "## User Input, Definition of Regression Parameters \n",
    "The 1st synthetic dataset based the NGAWest2 CA metadata for the type-1 NGMM is used as an example.\n",
    "The user should update the variables in this section to point to the regression dataset of interest."
   ]
  },
  {
   "cell_type": "code",
   "execution_count": 2,
   "id": "fb5a8300",
   "metadata": {},
   "outputs": [],
   "source": [
    "#regression name\n",
    "reg_name  = 'example_regression_ds1_pystan'\n",
    "\n",
    "#regression dataset\n",
    "flatfile_fname = '../../Data/Flatfiles/examp_datasets/CatalogNGAWest3CALite_synthetic_data_ngmm1_small_corr_len_Y1.csv'\n",
    "flatfile_fname = '../../Data/Atkinson_resid_trim_inside.csv'\n",
    "\n",
    "#output directory\n",
    "dir_out = '../../Data/Regression/example_ds1_cmdstan/'\n",
    "\n",
    "#filename for stan regression code\n",
    "sm_fname = '../Stan_lib/regression_stan_model1_unbounded_hyp_chol_efficient.stan'\n",
    "from regression_cmdstan_model1_unbounded_hyp import RunStan\n",
    "\n",
    "#stan parameters\n",
    "res_name        = 'tot_1'\n",
    "n_iter_warmup   = 5\n",
    "n_iter_sampling = 5\n",
    "n_chains        = 4\n",
    "adapt_delta     = 0.8\n",
    "max_treedepth   = 10\n",
    "#parallel options\n",
    "# flag_parallel = True\n",
    "flag_parallel = False\n"
   ]
  },
  {
   "cell_type": "markdown",
   "id": "c512e88d",
   "metadata": {},
   "source": [
    "## Load Files"
   ]
  },
  {
   "cell_type": "code",
   "execution_count": 3,
   "id": "ff61a562",
   "metadata": {},
   "outputs": [
    {
     "name": "stdout",
     "output_type": "stream",
     "text": [
      "26908\n"
     ]
    },
    {
     "data": {
      "text/plain": [
       "26764"
      ]
     },
     "execution_count": 3,
     "metadata": {},
     "output_type": "execute_result"
    }
   ],
   "source": [
    "#load flatfile\n",
    "df_flatfile = pd.read_csv(flatfile_fname)\n",
    "print(len(df_flatfile))\n",
    "df_flatfile[\"staLoc\"] = df_flatfile['staLat'].astype(str) + ',' + df_flatfile['staLon'].astype(str) \n",
    "df_flatfile = df_flatfile[df_flatfile[\"ssn\"].isin(df_flatfile[['ssn', 'staLoc']].drop_duplicates('staLoc')['ssn'])]\n",
    "df_flatfile = df_flatfile.drop(columns='staLoc')\n",
    "len(df_flatfile)"
   ]
  },
  {
   "cell_type": "markdown",
   "id": "25acb411",
   "metadata": {},
   "source": [
    "## Preprocessing \n",
    "This section can be used by the user for any pre-porcessing steps of the regression dataset."
   ]
  },
  {
   "cell_type": "code",
   "execution_count": 4,
   "id": "fee3aef6",
   "metadata": {},
   "outputs": [],
   "source": [
    "#keep only North records of NGAWest2\n",
    "# df_flatfile = df_flatfile.loc[df_flatfile.dsid==0,:]\n"
   ]
  },
  {
   "cell_type": "code",
   "execution_count": 5,
   "id": "a026ab95",
   "metadata": {},
   "outputs": [],
   "source": [
    "\n",
    "# a = np.array(df_flatfile.drop_duplicates('ssn')[['staLat', 'staLon']])\n",
    "# fig = plt.figure()\n",
    "# distances = np.sqrt(((a[:, :, None]-a.T[None, :, :])**2).sum(axis=1))\n",
    "# same = distances < 1e-7\n",
    "# same[np.arange(same.shape[0]), np.arange(same.shape[0])] = 0\n",
    "# plt.matshow(same)\n",
    "# plt.savefig(\"stations.png\")\n",
    "# plt.show()"
   ]
  },
  {
   "cell_type": "markdown",
   "id": "de6b5d7c",
   "metadata": {},
   "source": [
    "## Run Regression"
   ]
  },
  {
   "cell_type": "code",
   "execution_count": 6,
   "id": "6399e54c",
   "metadata": {},
   "outputs": [
    {
     "name": "stdout",
     "output_type": "stream",
     "text": [
      "Running regression for:example_regression_ds1_pystan\n"
     ]
    },
    {
     "ename": "ValueError",
     "evalue": "Failed to get source info for Stan model '/home/cking/sp-effects/ngmm_tools/Analyses/Stan_lib/regression_stan_model1_unbounded_hyp_chol_efficient.stan'. Console:\nSyntax error in '/home/cking/sp-effects/ngmm_tools/Analyses/Stan_lib/regression_stan_model1_unbounded_hyp_chol_efficient.stan', line 19, column 27 to column 28, parsing error:\n   -------------------------------------------------\n    17:    \n    18:    //event and station ID\n    19:    int<lower=1,upper=NEQ> eq[N];     // event id (in numerical order from 1 to last)\n                                    ^\n    20:    int<lower=1,upper=NSTAT> stat[N]; // station id (in numerical order from 1 to last)\n    21:  \n   -------------------------------------------------\n\n\";\" expected after variable declaration.\n",
     "output_type": "error",
     "traceback": [
      "\u001b[0;31m---------------------------------------------------------------------------\u001b[0m",
      "\u001b[0;31mValueError\u001b[0m                                Traceback (most recent call last)",
      "Cell \u001b[0;32mIn[6], line 7\u001b[0m\n\u001b[1;32m      4\u001b[0m run_t_strt \u001b[38;5;241m=\u001b[39m time\u001b[38;5;241m.\u001b[39mtime()\n\u001b[1;32m      6\u001b[0m \u001b[38;5;66;03m#run stan model\u001b[39;00m\n\u001b[0;32m----> 7\u001b[0m \u001b[43mRunStan\u001b[49m\u001b[43m(\u001b[49m\u001b[43mdf_flatfile\u001b[49m\u001b[43m,\u001b[49m\u001b[43m \u001b[49m\u001b[43msm_fname\u001b[49m\u001b[43m,\u001b[49m\u001b[43m \u001b[49m\n\u001b[1;32m      8\u001b[0m \u001b[43m        \u001b[49m\u001b[43mreg_name\u001b[49m\u001b[43m,\u001b[49m\u001b[43m \u001b[49m\u001b[43mdir_out\u001b[49m\u001b[43m,\u001b[49m\u001b[43m \u001b[49m\u001b[43mres_name\u001b[49m\u001b[43m,\u001b[49m\u001b[43m  \u001b[49m\n\u001b[1;32m      9\u001b[0m \u001b[43m        \u001b[49m\u001b[43mn_iter_warmup\u001b[49m\u001b[38;5;241;43m=\u001b[39;49m\u001b[43mn_iter_warmup\u001b[49m\u001b[43m,\u001b[49m\u001b[43m \u001b[49m\u001b[43mn_iter_sampling\u001b[49m\u001b[38;5;241;43m=\u001b[39;49m\u001b[43mn_iter_sampling\u001b[49m\u001b[43m,\u001b[49m\u001b[43m \u001b[49m\u001b[43mn_chains\u001b[49m\u001b[38;5;241;43m=\u001b[39;49m\u001b[43mn_chains\u001b[49m\u001b[43m,\u001b[49m\n\u001b[1;32m     10\u001b[0m \u001b[43m        \u001b[49m\u001b[43madapt_delta\u001b[49m\u001b[38;5;241;43m=\u001b[39;49m\u001b[43madapt_delta\u001b[49m\u001b[43m,\u001b[49m\u001b[43m \u001b[49m\u001b[43mmax_treedepth\u001b[49m\u001b[38;5;241;43m=\u001b[39;49m\u001b[43mmax_treedepth\u001b[49m\u001b[43m,\u001b[49m\n\u001b[1;32m     11\u001b[0m \u001b[43m        \u001b[49m\u001b[43mstan_parallel\u001b[49m\u001b[38;5;241;43m=\u001b[39;49m\u001b[43mflag_parallel\u001b[49m\u001b[43m)\u001b[49m\n\u001b[1;32m     13\u001b[0m \u001b[38;5;66;03m#run time end\u001b[39;00m\n\u001b[1;32m     14\u001b[0m run_t_end \u001b[38;5;241m=\u001b[39m time\u001b[38;5;241m.\u001b[39mtime()\n",
      "File \u001b[0;32m~/sp-effects/ngmm_tools/Analyses/Regression/../Python_lib/regression/cmdstan/regression_cmdstan_model1_unbounded_hyp.py:127\u001b[0m, in \u001b[0;36mRunStan\u001b[0;34m(df_flatfile, stan_model_fname, out_fname, out_dir, res_name, n_iter_warmup, n_iter_sampling, n_chains, max_treedepth, adapt_delta, stan_parallel)\u001b[0m\n\u001b[1;32m    124\u001b[0m \u001b[38;5;66;03m#run stan\u001b[39;00m\n\u001b[1;32m    125\u001b[0m \u001b[38;5;28;01mif\u001b[39;00m (\u001b[38;5;129;01mnot\u001b[39;00m stan_parallel) \u001b[38;5;129;01mor\u001b[39;00m n_cpu\u001b[38;5;241m<\u001b[39m\u001b[38;5;241m=\u001b[39mn_chains:\n\u001b[1;32m    126\u001b[0m     \u001b[38;5;66;03m#compile stan model\u001b[39;00m\n\u001b[0;32m--> 127\u001b[0m     stan_model \u001b[38;5;241m=\u001b[39m \u001b[43mcmdstanpy\u001b[49m\u001b[38;5;241;43m.\u001b[39;49m\u001b[43mCmdStanModel\u001b[49m\u001b[43m(\u001b[49m\u001b[43mstan_file\u001b[49m\u001b[38;5;241;43m=\u001b[39;49m\u001b[43mstan_model_fname\u001b[49m\u001b[43m)\u001b[49m \n\u001b[1;32m    128\u001b[0m     stan_model\u001b[38;5;241m.\u001b[39mcompile(force\u001b[38;5;241m=\u001b[39m\u001b[38;5;28;01mTrue\u001b[39;00m)\n\u001b[1;32m    129\u001b[0m     \u001b[38;5;66;03m#run full MCMC sampler\u001b[39;00m\n",
      "File \u001b[0;32m~/.cache/pypoetry/virtualenvs/ngmm-tools-USM35OYO-py3.10/lib/python3.10/site-packages/cmdstanpy/model.py:215\u001b[0m, in \u001b[0;36mCmdStanModel.__init__\u001b[0;34m(self, model_name, stan_file, exe_file, force_compile, stanc_options, cpp_options, user_header, compile)\u001b[0m\n\u001b[1;32m    211\u001b[0m \u001b[38;5;28;01mif\u001b[39;00m \u001b[38;5;129;01mnot\u001b[39;00m cmdstan_version_before(\n\u001b[1;32m    212\u001b[0m     \u001b[38;5;241m2\u001b[39m, \u001b[38;5;241m27\u001b[39m\n\u001b[1;32m    213\u001b[0m ):  \u001b[38;5;66;03m# unknown end of version range\u001b[39;00m\n\u001b[1;32m    214\u001b[0m     \u001b[38;5;28;01mtry\u001b[39;00m:\n\u001b[0;32m--> 215\u001b[0m         model_info \u001b[38;5;241m=\u001b[39m \u001b[38;5;28;43mself\u001b[39;49m\u001b[38;5;241;43m.\u001b[39;49m\u001b[43msrc_info\u001b[49m\u001b[43m(\u001b[49m\u001b[43m)\u001b[49m\n\u001b[1;32m    216\u001b[0m         \u001b[38;5;28;01mif\u001b[39;00m \u001b[38;5;124m'\u001b[39m\u001b[38;5;124mparameters\u001b[39m\u001b[38;5;124m'\u001b[39m \u001b[38;5;129;01min\u001b[39;00m model_info:\n\u001b[1;32m    217\u001b[0m             \u001b[38;5;28mself\u001b[39m\u001b[38;5;241m.\u001b[39m_fixed_param \u001b[38;5;241m|\u001b[39m\u001b[38;5;241m=\u001b[39m \u001b[38;5;28mlen\u001b[39m(model_info[\u001b[38;5;124m'\u001b[39m\u001b[38;5;124mparameters\u001b[39m\u001b[38;5;124m'\u001b[39m]) \u001b[38;5;241m==\u001b[39m \u001b[38;5;241m0\u001b[39m\n",
      "File \u001b[0;32m~/.cache/pypoetry/virtualenvs/ngmm-tools-USM35OYO-py3.10/lib/python3.10/site-packages/cmdstanpy/model.py:321\u001b[0m, in \u001b[0;36mCmdStanModel.src_info\u001b[0;34m(self)\u001b[0m\n\u001b[1;32m    319\u001b[0m \u001b[38;5;28;01mif\u001b[39;00m \u001b[38;5;28mself\u001b[39m\u001b[38;5;241m.\u001b[39mstan_file \u001b[38;5;129;01mis\u001b[39;00m \u001b[38;5;28;01mNone\u001b[39;00m \u001b[38;5;129;01mor\u001b[39;00m cmdstan_version_before(\u001b[38;5;241m2\u001b[39m, \u001b[38;5;241m27\u001b[39m):\n\u001b[1;32m    320\u001b[0m     \u001b[38;5;28;01mreturn\u001b[39;00m {}\n\u001b[0;32m--> 321\u001b[0m \u001b[38;5;28;01mreturn\u001b[39;00m \u001b[43mcompilation\u001b[49m\u001b[38;5;241;43m.\u001b[39;49m\u001b[43msrc_info\u001b[49m\u001b[43m(\u001b[49m\u001b[38;5;28;43mstr\u001b[39;49m\u001b[43m(\u001b[49m\u001b[38;5;28;43mself\u001b[39;49m\u001b[38;5;241;43m.\u001b[39;49m\u001b[43mstan_file\u001b[49m\u001b[43m)\u001b[49m\u001b[43m,\u001b[49m\u001b[43m \u001b[49m\u001b[38;5;28;43mself\u001b[39;49m\u001b[38;5;241;43m.\u001b[39;49m\u001b[43m_compiler_options\u001b[49m\u001b[43m)\u001b[49m\n",
      "File \u001b[0;32m~/.cache/pypoetry/virtualenvs/ngmm-tools-USM35OYO-py3.10/lib/python3.10/site-packages/cmdstanpy/compilation.py:355\u001b[0m, in \u001b[0;36msrc_info\u001b[0;34m(stan_file, compiler_options)\u001b[0m\n\u001b[1;32m    353\u001b[0m proc \u001b[38;5;241m=\u001b[39m subprocess\u001b[38;5;241m.\u001b[39mrun(cmd, capture_output\u001b[38;5;241m=\u001b[39m\u001b[38;5;28;01mTrue\u001b[39;00m, text\u001b[38;5;241m=\u001b[39m\u001b[38;5;28;01mTrue\u001b[39;00m, check\u001b[38;5;241m=\u001b[39m\u001b[38;5;28;01mFalse\u001b[39;00m)\n\u001b[1;32m    354\u001b[0m \u001b[38;5;28;01mif\u001b[39;00m proc\u001b[38;5;241m.\u001b[39mreturncode:\n\u001b[0;32m--> 355\u001b[0m     \u001b[38;5;28;01mraise\u001b[39;00m \u001b[38;5;167;01mValueError\u001b[39;00m(\n\u001b[1;32m    356\u001b[0m         \u001b[38;5;124mf\u001b[39m\u001b[38;5;124m\"\u001b[39m\u001b[38;5;124mFailed to get source info for Stan model \u001b[39m\u001b[38;5;124m\"\u001b[39m\n\u001b[1;32m    357\u001b[0m         \u001b[38;5;124mf\u001b[39m\u001b[38;5;124m\"\u001b[39m\u001b[38;5;124m'\u001b[39m\u001b[38;5;132;01m{\u001b[39;00mstan_file\u001b[38;5;132;01m}\u001b[39;00m\u001b[38;5;124m'\u001b[39m\u001b[38;5;124m. Console:\u001b[39m\u001b[38;5;130;01m\\n\u001b[39;00m\u001b[38;5;132;01m{\u001b[39;00mproc\u001b[38;5;241m.\u001b[39mstderr\u001b[38;5;132;01m}\u001b[39;00m\u001b[38;5;124m\"\u001b[39m\n\u001b[1;32m    358\u001b[0m     )\n\u001b[1;32m    359\u001b[0m result: Dict[\u001b[38;5;28mstr\u001b[39m, Any] \u001b[38;5;241m=\u001b[39m json\u001b[38;5;241m.\u001b[39mloads(proc\u001b[38;5;241m.\u001b[39mstdout)\n\u001b[1;32m    360\u001b[0m \u001b[38;5;28;01mreturn\u001b[39;00m result\n",
      "\u001b[0;31mValueError\u001b[0m: Failed to get source info for Stan model '/home/cking/sp-effects/ngmm_tools/Analyses/Stan_lib/regression_stan_model1_unbounded_hyp_chol_efficient.stan'. Console:\nSyntax error in '/home/cking/sp-effects/ngmm_tools/Analyses/Stan_lib/regression_stan_model1_unbounded_hyp_chol_efficient.stan', line 19, column 27 to column 28, parsing error:\n   -------------------------------------------------\n    17:    \n    18:    //event and station ID\n    19:    int<lower=1,upper=NEQ> eq[N];     // event id (in numerical order from 1 to last)\n                                    ^\n    20:    int<lower=1,upper=NSTAT> stat[N]; // station id (in numerical order from 1 to last)\n    21:  \n   -------------------------------------------------\n\n\";\" expected after variable declaration.\n"
     ]
    }
   ],
   "source": [
    "print(f'Running regression for:%s'%(reg_name))\n",
    "\n",
    "#run time start\n",
    "run_t_strt = time.time()\n",
    "    \n",
    "#run stan model\n",
    "RunStan(df_flatfile, sm_fname, \n",
    "        reg_name, dir_out, res_name,  \n",
    "        n_iter_warmup=n_iter_warmup, n_iter_sampling=n_iter_sampling, n_chains=n_chains,\n",
    "        adapt_delta=adapt_delta, max_treedepth=max_treedepth,\n",
    "        stan_parallel=flag_parallel)\n",
    "       \n",
    "#run time end\n",
    "run_t_end = time.time()\n",
    "\n",
    "#compute run time\n",
    "run_tm = (run_t_end - run_t_strt)/60\n",
    "  \n",
    "#log run time\n",
    "df_run_info = pd.DataFrame({'computer_name':os.uname()[1],'reg_name':reg_name,'run_time':run_tm}, \n",
    "                            index=[1])\n",
    "                           \n",
    "#write out run info\n",
    "fname_reginfo   = '%s/run_info.csv'%(dir_out)\n",
    "df_run_info.reset_index(drop=True).to_csv(fname_reginfo, index=False)\n",
    "\n",
    "print(f'Completed regression for: %s'%(reg_name))"
   ]
  },
  {
   "cell_type": "markdown",
   "id": "245e6045",
   "metadata": {},
   "source": [
    "## Regression Review\n",
    "The next code chunks produce summary plots to review the regression fit"
   ]
  },
  {
   "cell_type": "code",
   "execution_count": null,
   "id": "70f8403b",
   "metadata": {},
   "outputs": [],
   "source": [
    "%matplotlib inline\n",
    "\n",
    "#load non-ergodic coefficients and residuals\n",
    "fname_hparam  = dir_out + reg_name + '_stan_hyperparameters.csv'\n",
    "fname_gmotion = dir_out + reg_name + '_stan_residuals.csv'\n",
    "fname_coeff   = dir_out + reg_name + '_stan_coefficients.csv'\n",
    "df_hparam  = pd.read_csv(fname_hparam)\n",
    "df_gmotion = pd.read_csv(fname_gmotion, index_col=0)\n",
    "df_coeff   = pd.read_csv(fname_coeff, index_col=0)\n",
    "\n",
    "#merge gm-flatfile with non-ergodic coeffs and res \n",
    "df_gmotion = pd.merge(df_flatfile[['mag','Rrup','Vs30']], df_gmotion, left_index=True, right_index=True)\n",
    "df_coeff   = pd.merge(df_flatfile[['mag','Rrup','Vs30']], df_coeff,   left_index=True, right_index=True)\n",
    "\n",
    "#print mean and standard deviations of aleatory terms\n",
    "print(f'Between-event mean:\\t %.3f'%df_gmotion.res_between.mean())\n",
    "print(f'Within-event mean:\\t %.3f'%df_gmotion.res_within.mean())\n",
    "print(f'Between-event std:\\t %.3f'%df_gmotion.res_between.std())\n",
    "print(f'Within-event std:\\t %.3f'%df_gmotion.res_within.std())"
   ]
  },
  {
   "cell_type": "markdown",
   "id": "b09d674a",
   "metadata": {},
   "source": [
    "### Non-ergodic Residuals"
   ]
  },
  {
   "cell_type": "code",
   "execution_count": null,
   "id": "53c9a08d",
   "metadata": {},
   "outputs": [],
   "source": [
    "%matplotlib inline\n",
    "\n",
    "#between-event residuals \n",
    "fig, ax = plt.subplots(figsize = (8,8))\n",
    "ax.scatter(df_gmotion.mag, df_gmotion.res_between)\n",
    "ax.axhline(y=0, color='black', linestyle='--')\n",
    "#figure properties\n",
    "ax.set_xlabel('magnitude',               fontsize=30)\n",
    "ax.set_ylabel('between-event residuals', fontsize=30)\n",
    "ax.grid(which='both')\n",
    "ax.tick_params(axis='x', labelsize=25)\n",
    "ax.tick_params(axis='y', labelsize=25)\n",
    "fig.tight_layout()\n",
    "\n",
    "#within-event residuals vs mag\n",
    "fig, ax = plt.subplots(figsize = (8,8))\n",
    "ax.scatter(df_gmotion.mag, df_gmotion.res_within)\n",
    "ax.axhline(y=0, color='black', linestyle='--')\n",
    "#figure properties\n",
    "ax.set_xlabel('magnitude',               fontsize=30)\n",
    "ax.set_ylabel('within-event residuals', fontsize=30)\n",
    "ax.grid(which='both')\n",
    "ax.tick_params(axis='x', labelsize=25)\n",
    "ax.tick_params(axis='y', labelsize=25)\n",
    "fig.tight_layout()\n",
    "\n",
    "#within-event residuals vs dist\n",
    "fig, ax = plt.subplots(figsize = (8,8))\n",
    "ax.scatter(df_gmotion.Rrup, df_gmotion.res_within)\n",
    "ax.axhline(y=0, color='black', linestyle='--')\n",
    "#figure properties\n",
    "ax.set_xlabel('rupture distance',       fontsize=30)\n",
    "ax.set_ylabel('within-event residuals', fontsize=30)\n",
    "ax.grid(which='both')\n",
    "ax.tick_params(axis='x', labelsize=25)\n",
    "ax.tick_params(axis='y', labelsize=25)\n",
    "fig.tight_layout()"
   ]
  },
  {
   "cell_type": "markdown",
   "id": "a2a23dfe",
   "metadata": {},
   "source": [
    "### Non-ergodic Coefficients"
   ]
  },
  {
   "cell_type": "code",
   "execution_count": null,
   "id": "460882d7",
   "metadata": {},
   "outputs": [],
   "source": [
    "#spatially varying earthquake adjustment\n",
    "fig, ax = plt.subplots(figsize = (8,8))\n",
    "ax.scatter(df_coeff.mag, df_coeff.dc_1e_mean)\n",
    "ax.axhline(y=0, color='black', linestyle='--')\n",
    "#figure properties\n",
    "ax.set_xlabel('magnitude',              fontsize=30)\n",
    "ax.set_ylabel(r'$\\mu(\\delta c_{1,E})$', fontsize=30)\n",
    "ax.grid(which='both')\n",
    "ax.tick_params(axis='x', labelsize=25)\n",
    "ax.tick_params(axis='y', labelsize=25)\n",
    "fig.tight_layout()\n",
    "\n",
    "#spatially varying site adjustment\n",
    "fig, ax = plt.subplots(figsize = (8,8))\n",
    "ax.scatter(np.log(df_coeff.Vs30), df_coeff.dc_1as_mean)\n",
    "ax.axhline(y=0, color='black', linestyle='--')\n",
    "#figure properties\n",
    "ax.set_xlabel(r'$\\ln(V_{S30}$',          fontsize=30)\n",
    "ax.set_ylabel(r'$\\mu(\\delta c_{1a,S})$', fontsize=30)\n",
    "ax.grid(which='both')\n",
    "ax.tick_params(axis='x', labelsize=25)\n",
    "ax.tick_params(axis='y', labelsize=25)\n",
    "fig.tight_layout()\n",
    "\n",
    "#spatially varying site adjustment\n",
    "fig, ax = plt.subplots(figsize = (8,8))\n",
    "ax.scatter(np.log(df_coeff.Vs30), df_coeff.dc_1bs_mean)\n",
    "ax.axhline(y=0, color='black', linestyle='--')\n",
    "#figure properties\n",
    "ax.set_xlabel(r'$\\ln(V_{S30})$',         fontsize=30)\n",
    "ax.set_ylabel(r'$\\mu(\\delta c_{1b,S})$', fontsize=30)\n",
    "ax.grid(which='both')\n",
    "ax.tick_params(axis='x', labelsize=25)\n",
    "ax.tick_params(axis='y', labelsize=25)\n",
    "fig.tight_layout()"
   ]
  },
  {
   "cell_type": "code",
   "execution_count": null,
   "id": "ec308c15",
   "metadata": {},
   "outputs": [],
   "source": [
    "#earthquake indices\n",
    "_, eq_idx  = np.unique(df_coeff[['eqid']].values, axis=0, return_index=True)\n",
    "#station indices\n",
    "_, sta_idx = np.unique(df_coeff[['ssn']].values, axis=0, return_index=True)\n",
    "\n",
    "#spatially varying earthquake adjustment\n",
    "#---------------------\n",
    "#mean\n",
    "#---   ---   ---   ---\n",
    "cbar_label = r'$mu(\\delta c_{1,E})$'\n",
    "data2plot  = df_coeff[['eqLat','eqLon','dc_1e_mean']].values[eq_idx,:]\n",
    "fig, ax, cbar, data_crs, _ = pycplt.PlotScatterCAMap(data2plot, cmap='RdYlBu_r', log_cbar=False, marker_size=60,\n",
    "                                                     frmt_clb = '%.2f')\n",
    "#update colorbar \n",
    "cbar.ax.tick_params(tick1On=1, labelsize=30)\n",
    "cbar.set_label(cbar_label, size=35)\n",
    "#grid lines\n",
    "gl = ax.gridlines(draw_labels=True)\n",
    "gl.xlabels_top = False\n",
    "gl.ylabels_right = False\n",
    "gl.xlabel_style = {'size': 30}\n",
    "gl.ylabel_style = {'size': 30}\n",
    "gl.xlocator = mticker.FixedLocator([-123, -119, -115])\n",
    "gl.ylocator = mticker.FixedLocator([ 33,   37,   41])\n",
    "#apply tight layout\n",
    "fig.tight_layout()\n",
    "\n",
    "#epistemic uncertainty\n",
    "#---   ---   ---   ---\n",
    "cbar_label = r'$\\psi(\\delta c_{1,E})$'\n",
    "data2plot  = df_coeff[['eqLat','eqLon','dc_1e_sig']].values[eq_idx,:]\n",
    "fig, ax, cbar, data_crs, _ = pycplt.PlotScatterCAMap(data2plot, cmap='Purples_r', log_cbar=False, marker_size=60,\n",
    "                                                     frmt_clb = '%.2f')\n",
    "#update colorbar \n",
    "cbar.ax.tick_params(tick1On=1, labelsize=30)\n",
    "cbar.set_label(cbar_label, size=35)\n",
    "#grid lines\n",
    "gl = ax.gridlines(draw_labels=True)\n",
    "gl.xlabels_top = False\n",
    "gl.ylabels_right = False\n",
    "gl.xlabel_style = {'size': 30}\n",
    "gl.ylabel_style = {'size': 30}\n",
    "gl.xlocator = mticker.FixedLocator([-123, -119, -115])\n",
    "gl.ylocator = mticker.FixedLocator([ 33,   37,   41])\n",
    "#apply tight layout\n",
    "fig.tight_layout()"
   ]
  },
  {
   "cell_type": "code",
   "execution_count": null,
   "id": "0893723c",
   "metadata": {},
   "outputs": [],
   "source": [
    "#spatially varying site adjustment\n",
    "#---------------------\n",
    "#mean\n",
    "#---   ---   ---   ---\n",
    "cbar_label = r'$\\mu(\\delta c_{1a,S})$'\n",
    "data2plot  = df_coeff[['staLat','staLon','dc_1as_mean']].values[sta_idx,:]\n",
    "fig, ax, cbar, data_crs, _ = pycplt.PlotScatterCAMap(data2plot, cmap='RdYlBu_r', log_cbar=False, marker_size=60,\n",
    "                                                     frmt_clb = '%.2f')\n",
    "#update colorbar \n",
    "cbar.ax.tick_params(tick1On=1, labelsize=30)\n",
    "cbar.set_label(cbar_label, size=35)\n",
    "#grid lines\n",
    "gl = ax.gridlines(draw_labels=True)\n",
    "gl.xlabels_top = False\n",
    "gl.ylabels_right = False\n",
    "gl.xlabel_style = {'size': 30}\n",
    "gl.ylabel_style = {'size': 30}\n",
    "gl.xlocator = mticker.FixedLocator([-123, -119, -115])\n",
    "gl.ylocator = mticker.FixedLocator([ 33,   37,   41])\n",
    "#apply tight layout\n",
    "fig.tight_layout()\n",
    "\n",
    "#epistemic uncertainty\n",
    "#---   ---   ---   ---\n",
    "cbar_label = r'$\\psi(\\delta c_{1a,S})$'\n",
    "data2plot  = df_coeff[['staLat','staLon','dc_1as_sig']].values[sta_idx,:]\n",
    "fig, ax, cbar, data_crs, _ = pycplt.PlotScatterCAMap(data2plot, cmap='Purples_r', log_cbar=False, marker_size=60,\n",
    "                                                     frmt_clb = '%.2f')\n",
    "#update colorbar \n",
    "cbar.ax.tick_params(tick1On=1, labelsize=30)\n",
    "cbar.set_label(cbar_label, size=35)\n",
    "#grid lines\n",
    "gl = ax.gridlines(draw_labels=True)\n",
    "gl.xlabels_top = False\n",
    "gl.ylabels_right = False\n",
    "gl.xlabel_style = {'size': 30}\n",
    "gl.ylabel_style = {'size': 30}\n",
    "gl.xlocator = mticker.FixedLocator([-123, -119, -115])\n",
    "gl.ylocator = mticker.FixedLocator([ 33,   37,   41])\n",
    "#apply tight layout\n",
    "fig.tight_layout()"
   ]
  },
  {
   "cell_type": "code",
   "execution_count": null,
   "id": "5d6be1ce",
   "metadata": {},
   "outputs": [],
   "source": [
    "#spatially independent site adjustment\n",
    "#---------------------\n",
    "#mean\n",
    "#---   ---   ---   ---\n",
    "cbar_label = r'$\\mu(\\delta c_{1b,S})$'\n",
    "data2plot  = df_coeff[['staLat','staLon','dc_1bs_mean']].values[sta_idx,:]\n",
    "fig, ax, cbar, data_crs, _ = pycplt.PlotScatterCAMap(data2plot, cmap='RdYlBu_r', log_cbar=False, marker_size=60,\n",
    "                                                     frmt_clb = '%.2f')\n",
    "#update colorbar \n",
    "cbar.ax.tick_params(tick1On=1, labelsize=30)\n",
    "cbar.set_label(cbar_label, size=35)\n",
    "#grid lines\n",
    "gl = ax.gridlines(draw_labels=True)\n",
    "gl.xlabels_top = False\n",
    "gl.ylabels_right = False\n",
    "gl.xlabel_style = {'size': 30}\n",
    "gl.ylabel_style = {'size': 30}\n",
    "gl.xlocator = mticker.FixedLocator([-123, -119, -115])\n",
    "gl.ylocator = mticker.FixedLocator([ 33,   37,   41])\n",
    "#apply tight layout\n",
    "fig.tight_layout()\n",
    "\n",
    "#epistemic uncertainty\n",
    "#---   ---   ---   ---\n",
    "cbar_label = r'$\\psi(\\delta c_{1b,S})$'\n",
    "data2plot  = df_coeff[['staLat','staLon','dc_1bs_mean']].values[sta_idx,:]\n",
    "fig, ax, cbar, data_crs, _ = pycplt.PlotScatterCAMap(data2plot, cmap='Purples_r', log_cbar=False, marker_size=60,\n",
    "                                                     frmt_clb = '%.2f')\n",
    "#update colorbar \n",
    "cbar.ax.tick_params(tick1On=1, labelsize=30)\n",
    "cbar.set_label(cbar_label, size=35)\n",
    "#grid lines\n",
    "gl = ax.gridlines(draw_labels=True)\n",
    "gl.xlabels_top = False\n",
    "gl.ylabels_right = False\n",
    "gl.xlabel_style = {'size': 30}\n",
    "gl.ylabel_style = {'size': 30}\n",
    "gl.xlocator = mticker.FixedLocator([-123, -119, -115])\n",
    "gl.ylocator = mticker.FixedLocator([ 33,   37,   41])\n",
    "#apply tight layout\n",
    "fig.tight_layout()"
   ]
  }
 ],
 "metadata": {
  "kernelspec": {
   "display_name": "Python 3 (ipykernel)",
   "language": "python",
   "name": "python3"
  },
  "language_info": {
   "codemirror_mode": {
    "name": "ipython",
    "version": 3
   },
   "file_extension": ".py",
   "mimetype": "text/x-python",
   "name": "python",
   "nbconvert_exporter": "python",
   "pygments_lexer": "ipython3",
   "version": "3.10.12"
  }
 },
 "nbformat": 4,
 "nbformat_minor": 5
}
