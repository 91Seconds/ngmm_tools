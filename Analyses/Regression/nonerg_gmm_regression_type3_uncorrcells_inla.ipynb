{
 "cells": [
  {
   "cell_type": "markdown",
   "id": "2453a0ed",
   "metadata": {},
   "source": [
    "# Non-Ergodic GMM Regression (Type-3) using INLA\n",
    "## Spatially Uncorrelated Anelastic Attenuation Cells\n",
    "\n",
    "This notebook is used to estimate the non-ergodic coefficients, anelastic attenuation coefficients, and hyper-parameters of a type-3 non-ergodic GMM though Gaussian Process regression using the Bayesian software INLA. \n",
    "\n",
    "The Type-3 GMM compnents, with uncorrelated anelastic attenuation cells, are:\n",
    "- The non-ergodic effects are modeled by:\n",
    "  - $\\delta c_{0}$:    constant shift of non-ergodic GMM with respect to base ergodic GMM\n",
    "  - $\\delta c_{1,E}$:  spatially varying eathquake adjustment as a function of the earthquake coordinates\n",
    "  - $\\delta c_{1a,S}$: spatially varying site adjustment as a function of the site coordinates\n",
    "  - $\\delta c_{1b,S}$: spatially independent site adjustment as a function of the station id\n",
    "  - $c_{2,P}$:         spatially varying geometrical spreading as a function of the earthquake coordinates\n",
    "  - $c_{3,S}$:         spatially varying $V_{S30}$ scaling as a function of the site coordinates\n",
    "  - $c_{ca,P}$:        cell-specific anelastic attenuation\n",
    "- The aleatory variability is captured by:\n",
    "  - $\\delta B^0_{e}$: between-event aleatory term\n",
    "  - $\\delta W^0_{e,s}$: within-event aleatory term\n",
    "- The non-ergodic hyperparameters are:\n",
    "  - $\\ell_{1,E}$:     correlation lenght of spatially varying earthquake adjustment\n",
    "  - $\\ell_{1a,S}$:    correlation lenght of spatially varying site adjustment\n",
    "  - $\\ell_{2,P}$:     correlation lenght of spatially varying eometrical spreading\n",
    "  - $\\ell_{3,S}$:     correlation lenght of spatially $V_{S30}$ scaling\n",
    "  - $\\omega_{1,E}$:   scale of spatially varying earthquake adjustment \n",
    "  - $\\omega_{1a,S}$:  scale of spatially varying site adjustment\n",
    "  - $\\omega_{1b,S}$:  scale of spatially independent site adjustment\n",
    "  - $\\omega_{2,P}$:   scale of spatially varying geometrical spreading\n",
    "  - $\\omega_{3,S}$:   scale of spatially varying $V_{S30}$ scaling\n",
    "  - $\\omega_{ca,P}$:  scale of anelastic attenuation cell coefficients\n",
    "  - $\\mu_{2,P}$:      mean of geometrical spreading\n",
    "  - $\\mu_{3,S}$:      mean of $V_{S30}$ scaling\n",
    "  - $\\mu_{ca,P}$:     mean of cell-specific anelastic attenuation   \n",
    "  - $\\tau_{0}$:       standard deviation of between-event aleatory\n",
    "  - $\\phi_{0}$:       standard deviation of within-event aleatory\n",
    "\n",
    "**Disclaimer:** The non-ergodic regression is perfomed on the total residuals (column ``res_name``) of a base ergodic GMM without including the effect of anelastic attenuation. \n",
    "The total regression residuals ($\\epsilon_{tot}$) without the effect of geometrical spreading, $V_{S30}$ scalign, and anelastic attenuation are defined as:\n",
    "$$\n",
    "\\epsilon_{tot} = log(IM) - (\\mu_{erg}(M,R_{rup},V_{S30}, ...) - (c_{2~erg} ~ f_{gs}(R_{rup},M) + c_{3~erg} ~ f_{V_{S30}}(V_{S30}) + c_{a~erg} ~ R_{rup})\n",
    "$$\n",
    "where $IM$ is the intesity parameter of interest (e.g. PGA, PSA), $\\mu_{erg}$ is mean functional form of the ergodic GMM in log space, $c_2$ is the ergodic geometrical spreading coefficient, $c_3$ is the ergodic $V_{S30}$ scaling coefficient, and $c_{a~erg}$ is the ergodic anelastic attenuation coefficient.\n",
    "\n",
    "This script was developed as part of the Non-ergodic Methodology and Modeling Tools research project summarized in the report by Lavrentiadis G., Kuehn N., Bozorgnia Y., Seylabi E., Meng X., Goulet C., and Kottke A. (2022), \"Non‐ergodic Methodology and Modeling Tools (Report GIRS-2022-04).\" Natural Hazards Risk and Resiliency Research Center, University of California, Los Angeles.\n",
    "\n",
    "Support provided by the California Department of Transportation (Caltrans) and Pacific Gas and Electric Company (PG&E) is gratefully acknowledged. "
   ]
  },
  {
   "cell_type": "markdown",
   "id": "25b948cb",
   "metadata": {},
   "source": [
    "## Load required functions"
   ]
  },
  {
   "cell_type": "code",
   "execution_count": null,
   "id": "a759e3d3",
   "metadata": {},
   "outputs": [],
   "source": [
    "#user functions\n",
    "source('../R_lib/regression/inla/regression_inla_model3_uncorr_cells_unbounded_hyp.R')"
   ]
  },
  {
   "cell_type": "markdown",
   "id": "29eb4586",
   "metadata": {},
   "source": [
    "## User Input, Definition of Regression Parameters \n",
    "The 1st synthetic dataset based the NGAWest3 CA metadata for the type-3 NGMM is used as an example.\n",
    "The user should update the variables in this section to point to the regression dataset of interest."
   ]
  },
  {
   "cell_type": "code",
   "execution_count": null,
   "id": "ec4007f4",
   "metadata": {},
   "outputs": [],
   "source": [
    "#regression name\n",
    "reg_name  <- 'example_regression_ds3_inla'\n",
    "\n",
    "#regression dataset\n",
    "flatfile_fname <- '../../Data/Flatfiles/examp_datasets/CatalogNGAWest3CALite_synthetic_data_ngmm3_small_corr_len_Y1.csv'\n",
    "#cell-path info and distance matrix\n",
    "cellinfo_fname <- '../../Data/Flatfiles/examp_datasets/CatalogNGAWest3CALite_cellinfo.csv'\n",
    "celldist_fname <- '../../Data/Flatfiles/examp_datasets/CatalogNGAWest3CALite_distancematrix.csv'\n",
    "\n",
    "#output directory\n",
    "dir_out <- '../../Data/Regression/example_ds3_inla/'\n",
    "\n",
    "#INLA regression parameters\n",
    "runinla_flag <- TRUE # TRUE or FALSE\n",
    "res_name     <- 'tot'\n",
    "\n",
    "#mesh coarseness\n",
    "# #fine\n",
    "# mesh_edge_max     <- 5\n",
    "# mesh_inner_offset <- 15\n",
    "# mesh_outer_offset <- 15\n",
    "# #medium\n",
    "# mesh_edge_max     <- 15\n",
    "# mesh_inner_offset <- 15\n",
    "# mesh_outer_offset <- 50\n",
    "#coarse\n",
    "mesh_edge_max     <- 50\n",
    "mesh_inner_offset <- 50\n",
    "mesh_outer_offset <- 150\n",
    "\n",
    "#ergodic coefficients\n",
    "c_2_erg <- -2.0\n",
    "c_3_erg <- -0.6\n",
    "c_a_erg <-  0.0 #anelastic attenuation\n",
    "\n",
    "#approximation options\n",
    "# if flag_gp_approx=TRUE uses int.strategy=\"eb\" and strategy=\"gaussian\"\n",
    "# int.strategy=\"eb\" corresponds to one integration point, and \n",
    "# strategy=\"gaussian\" approximates posteriors as gaussian distributions\n",
    "flag_gp_approx <- TRUE # TRUE or FALSE\n",
    "\n",
    "#number of threads\n",
    "# reduce number of threads if running out of memmory, if not specified\n",
    "# number of CPU threads is used\n",
    "n_threads <- 8"
   ]
  },
  {
   "cell_type": "markdown",
   "id": "91d92813",
   "metadata": {},
   "source": [
    "## Load Files"
   ]
  },
  {
   "cell_type": "code",
   "execution_count": null,
   "id": "d33c0d58",
   "metadata": {},
   "outputs": [],
   "source": [
    "#load flatfile\n",
    "df_flatfile  <- read.csv(flatfile_fname)\n",
    "\n",
    "#load cell dataframes\n",
    "df_cellinfo  <- read.csv(cellinfo_fname)\n",
    "df_celldist  <- read.csv(celldist_fname)"
   ]
  },
  {
   "cell_type": "markdown",
   "id": "5891e0bb",
   "metadata": {},
   "source": [
    "## Preprocessing \n",
    "This section can be used by the user for any pre-porcessing steps of the regression dataset."
   ]
  },
  {
   "cell_type": "code",
   "execution_count": null,
   "id": "faab884c",
   "metadata": {},
   "outputs": [],
   "source": []
  },
  {
   "cell_type": "markdown",
   "id": "455cd590",
   "metadata": {},
   "source": [
    "## Run Regression"
   ]
  },
  {
   "cell_type": "code",
   "execution_count": null,
   "id": "91b22e05",
   "metadata": {},
   "outputs": [],
   "source": [
    "print(paste(\"Running regression for: \",reg_name))\n",
    "\n",
    "#run time start\n",
    "run_t_strt <- Sys.time()\n",
    "\n",
    "#run INLA model\n",
    "RunINLA(df_flatfile, df_cellinfo, df_celldist, reg_name, dir_out, res_name=res_name, \n",
    "        c_2_erg=c_2_erg, c_3_erg=c_3_erg, c_a_erg=c_a_erg,\n",
    "        runinla_flag=runinla_flag,\n",
    "        mesh_edge_max=mesh_edge_max, \n",
    "        mesh_inner_offset=mesh_inner_offset, mesh_outer_offset=mesh_outer_offset,\n",
    "        flag_gp_approx=flag_gp_approx,\n",
    "        n_threads=n_threads)\n",
    "\n",
    "#run time end\n",
    "run_t_end <- Sys.time()\n",
    "\n",
    "#compute run time\n",
    "run_tm <- run_t_end - run_t_strt\n",
    "\n",
    "#log run time\n",
    "df_run_info <- data.frame(computer_name=Sys.info()[\"nodename\"], reg_name=reg_name, run_time=run_tm)\n",
    "\n",
    "#write out run info\n",
    "write.csv(df_run_info, sprintf('%s/run_info.csv', dir_out), row.names=FALSE)\n",
    "\n",
    "print(paste(\"Running regression for: \",reg_name))"
   ]
  },
  {
   "cell_type": "markdown",
   "id": "075a73d5",
   "metadata": {},
   "source": [
    "## Regression Review\n",
    "The next code chunks produce summary plots to review the regression fit"
   ]
  },
  {
   "cell_type": "code",
   "execution_count": null,
   "id": "121a4368",
   "metadata": {},
   "outputs": [],
   "source": [
    "#load non-ergodic coefficients, residuals, and cell specific anelastic attenuation\n",
    "fname_hparam  <- file.path(dir_out, paste0(reg_name,'_inla_hyperparameters.csv'))\n",
    "fname_gmotion <- file.path(dir_out, paste0(reg_name,'_inla_residuals.csv'))\n",
    "fname_coeff   <- file.path(dir_out, paste0(reg_name,'_inla_coefficients.csv'))\n",
    "fname_atten   <- file.path(dir_out, paste0(reg_name,'_inla_catten.csv'))\n",
    "df_hparam  <- read.csv(fname_hparam)\n",
    "df_gmotion <- read.csv(fname_gmotion)\n",
    "df_coeff   <- read.csv(fname_coeff)\n",
    "df_atten   <- read.csv(fname_atten)\n",
    "\n",
    "#merge gm-flatfile with non-ergodic coeffs and res \n",
    "df_gmotion <- merge(df_flatfile,df_gmotion)\n",
    "df_coeff   <- merge(df_flatfile,df_coeff)\n",
    "#merge cell atten coeffs with cell atten info\n",
    "df_atten   <- merge(df_cellinfo, df_atten)"
   ]
  },
  {
   "cell_type": "markdown",
   "id": "75182a2d",
   "metadata": {},
   "source": [
    "### Non-ergodic Residuals"
   ]
  },
  {
   "cell_type": "code",
   "execution_count": null,
   "id": "4ace7dc1",
   "metadata": {},
   "outputs": [],
   "source": [
    "#between-event residuals \n",
    "pl_dB_mag <- ggplot(df_gmotion, aes(mag, res_between)) + theme_bw() +\n",
    "              geom_point() + geom_hline(yintercept=0,linetype=\"dashed\") +\n",
    "              labs(x='magnitude', y='between-event residuals') + \n",
    "              theme(axis.title = element_text(size=20), \n",
    "                    axis.text.y = element_text(size=20), axis.text.x = element_text(size=20))\n",
    "\n",
    "#within-event residuals \n",
    "pl_dW_mag <- ggplot(df_gmotion, aes(mag, res_within)) + theme_bw() +\n",
    "              geom_point() + geom_hline(yintercept=0,linetype=\"dashed\") +\n",
    "              labs(x='magnitude', y='within-event residuals') + \n",
    "              theme(axis.title = element_text(size=20), \n",
    "                    axis.text.y = element_text(size=20), axis.text.x = element_text(size=20))\n",
    "\n",
    "pl_dW_Rrup <- ggplot(df_gmotion, aes(log(Rrup), res_within)) + theme_bw() +\n",
    "               geom_point() + geom_hline(yintercept=0,linetype=\"dashed\") +\n",
    "               labs(x='log rupture distance', y='within-event residuals') + \n",
    "               theme(axis.title = element_text(size=20), \n",
    "                     axis.text.y = element_text(size=20), axis.text.x = element_text(size=20))\n",
    "\n",
    "print(pl_dB_mag)\n",
    "print(pl_dW_mag)\n",
    "print(pl_dW_Rrup)"
   ]
  },
  {
   "cell_type": "markdown",
   "id": "9e46bc15",
   "metadata": {},
   "source": [
    "### Non-ergodic Coefficients"
   ]
  },
  {
   "cell_type": "code",
   "execution_count": null,
   "id": "5a6b017c",
   "metadata": {},
   "outputs": [],
   "source": [
    "#spatially varying earthquake adjustment\n",
    "pl_dc1e_mu_mag <- ggplot(df_coeff, aes(mag, dc_1e_mean)) + theme_bw() +\n",
    "                    geom_point() + geom_hline(yintercept=0,linetype=\"dashed\") +\n",
    "                    labs(x='magnitude', y='mu(delta c_1e)') + \n",
    "                    theme(axis.title = element_text(size=20), \n",
    "                          axis.text.y = element_text(size=20), axis.text.x = element_text(size=20))\n",
    "\n",
    "#spatially varying site adjustment\n",
    "pl_dc1as_mu_vs30 <- ggplot(df_coeff, aes(log(Vs30), dc_1as_mean)) + theme_bw() +\n",
    "                      geom_point() + geom_hline(yintercept=0,linetype=\"dashed\") +\n",
    "                      labs(x='log V_S30', y='mu(delta c_1as)') + \n",
    "                      theme(axis.title = element_text(size=20), \n",
    "                            axis.text.y = element_text(size=20), axis.text.x = element_text(size=20))\n",
    "\n",
    "#spatially independent site adjustment\n",
    "pl_dc1bs_mu_vs30 <- ggplot(df_coeff, aes(log(Vs30), dc_1bs_mean)) + theme_bw() +\n",
    "                      geom_point() + geom_hline(yintercept=0,linetype=\"dashed\") +\n",
    "                      labs(x='log V_S30', y='mu(delta c_1bs)') + \n",
    "                      theme(axis.title = element_text(size=20), \n",
    "                            axis.text.y = element_text(size=20), axis.text.x = element_text(size=20))\n",
    "\n",
    "#spatially varying geometrical spreading\n",
    "pl_c2p_mu_mag <- ggplot(df_coeff, aes(mag, c_2p_mean)) + theme_bw() +\n",
    "                  geom_point() + geom_hline(yintercept=df_hparam['mean','mu_c2p'],linetype=\"dashed\") +\n",
    "                  labs(x='log V_S30', y='mu(c_2s)') + \n",
    "                  theme(axis.title = element_text(size=20), \n",
    "                        axis.text.y = element_text(size=20), axis.text.x = element_text(size=20))\n",
    "\n",
    "#spatially varying Vs30 term\n",
    "pl_c3s_mu_vs30 <- ggplot(df_coeff, aes(log(Vs30), c_3s_mean)) + theme_bw() +\n",
    "                  geom_point() + geom_hline(yintercept=df_hparam['mean','mu_c2p'],linetype=\"dashed\") +\n",
    "                  labs(x='log V_S30', y='mu(c_3s)') + \n",
    "                  theme(axis.title = element_text(size=20), \n",
    "                        axis.text.y = element_text(size=20), axis.text.x = element_text(size=20))"
   ]
  },
  {
   "cell_type": "code",
   "execution_count": null,
   "id": "dc41b1cb",
   "metadata": {},
   "outputs": [],
   "source": [
    "print(pl_dc1e_mu_mag)\n",
    "print(pl_dc1as_mu_vs30)\n",
    "print(pl_dc1bs_mu_vs30)"
   ]
  },
  {
   "cell_type": "code",
   "execution_count": null,
   "id": "5f617c51",
   "metadata": {},
   "outputs": [],
   "source": [
    "print(pl_c2p_mu_mag)\n",
    "print(pl_c3s_mu_vs30)"
   ]
  },
  {
   "cell_type": "code",
   "execution_count": null,
   "id": "9a3414f1",
   "metadata": {},
   "outputs": [],
   "source": [
    "#UTM zone\n",
    "utm_zone <- unique(df_flatfile$UTMzone)\n",
    "utm_no   <- as.numeric(gsub(\"([0-9]+).*$\", \"\\\\1\", utm_zone))\n",
    "#California\n",
    "map_ca     <- subset( map_data(\"state\"), region %in% c(\"california\"))\n",
    "map_ca_utm <- LongLatToUTM(lat=map_ca$lat, lon=map_ca$long, utm_no)\n",
    "map_ca[,c('X','Y')] <- map_ca_utm[,c('X','Y')]/1000\n",
    "#Nevada\n",
    "map_nv     <- subset( map_data(\"state\"), region %in% c(\"nevada\"))\n",
    "map_nv_utm <- LongLatToUTM(lat=map_nv$lat, lon=map_nv$long, utm_no)\n",
    "map_nv[,c('X','Y')] <- map_nv_utm[,c('X','Y')]/1000\n",
    "\n",
    "#base map\n",
    "pl_map <- ggplot() + theme_bw() +\n",
    "            geom_path(data=map_ca, aes(x=X,y=Y), color='black') + \n",
    "            geom_path(data=map_nv, aes(x=X,y=Y), color='black')\n",
    "\n",
    "#spatially varying earthquake adjustment\n",
    "pl_dc1e_mu_map <- pl_map + geom_point(data=df_coeff, aes(eqX, eqY, color=dc_1e_mean)) +\n",
    "                      scale_color_gradientn(colours = rainbow(10)) +\n",
    "                      labs(x='X (km)', y='Y (km)', color='mu(delta c_1,E)') + \n",
    "                      theme(axis.title = element_text(size=20), \n",
    "                            axis.text.y = element_text(size=20), axis.text.x = element_text(size=20),\n",
    "                            legend.text=element_text(size=20), legend.title=element_text(size=20))\n",
    "\n",
    "pl_dc1e_sd_map <- pl_map + geom_point(data=df_coeff, aes(eqX, eqY, color=dc_1e_sig)) +\n",
    "                      scale_color_gradientn(colours = rev(rainbow(10))) +\n",
    "                      labs(x='X (km)', y='Y (km)', color='sd(delta c_1,E)') + \n",
    "                      theme(axis.title = element_text(size=20), \n",
    "                            axis.text.y = element_text(size=20), axis.text.x = element_text(size=20),\n",
    "                            legend.text=element_text(size=20), legend.title=element_text(size=20))\n",
    "\n",
    "#spatially varying site adjustment\n",
    "pl_dc1as_mu_map <- pl_map + geom_point(data=df_coeff, aes(staX, staY, color=dc_1as_mean)) +\n",
    "                      scale_color_gradientn(colours = rainbow(10)) +\n",
    "                      labs(x='X (km)', y='Y (km)', color='mu(delta c_1a,S)') + \n",
    "                      theme(axis.title = element_text(size=20), \n",
    "                            axis.text.y = element_text(size=20), axis.text.x = element_text(size=20),\n",
    "                            legend.text=element_text(size=20), legend.title=element_text(size=20))\n",
    "\n",
    "pl_dc1as_sd_map <- pl_map + geom_point(data=df_coeff, aes(staX, staY, color=dc_1as_sig)) +\n",
    "                      scale_color_gradientn(colours = rev(rainbow(10))) +\n",
    "                      labs(x='X (km)', y='Y (km)', color='sd(delta c_1a,S)') + \n",
    "                      theme(axis.title = element_text(size=20), \n",
    "                            axis.text.y = element_text(size=20), axis.text.x = element_text(size=20),\n",
    "                            legend.text=element_text(size=20), legend.title=element_text(size=20))\n",
    "\n",
    "#spatially independent site adjustment\n",
    "pl_dc1bs_mu_map <- pl_map + geom_point(data=df_coeff, aes(staX, staY, color=dc_1bs_mean)) +\n",
    "                      scale_color_gradientn(colours = rainbow(10)) +\n",
    "                      labs(x='X (km)', y='Y (km)', color='mu(delta c_1b,S)') + \n",
    "                      theme(axis.title = element_text(size=20), \n",
    "                            axis.text.y = element_text(size=20), axis.text.x = element_text(size=20),\n",
    "                            legend.text=element_text(size=20), legend.title=element_text(size=20))\n",
    "\n",
    "pl_dc1bs_sd_map <- pl_map + geom_point(data=df_coeff, aes(staX, staY, color=dc_1bs_sig)) +\n",
    "                      scale_color_gradientn(colours = rev(rainbow(10))) +\n",
    "                      labs(x='X (km)', y='Y (km)', color='sd(delta c_1b,S)') + \n",
    "                      theme(axis.title = element_text(size=20), \n",
    "                            axis.text.y = element_text(size=20), axis.text.x = element_text(size=20),\n",
    "                            legend.text=element_text(size=20), legend.title=element_text(size=20))\n",
    "\n",
    "#spatially varying earthquake adjustment\n",
    "pl_c2p_mu_map <- pl_map + geom_point(data=df_coeff, aes(eqX, eqY, color=c_2p_mean)) +\n",
    "                      scale_color_gradientn(colours = rainbow(10)) +\n",
    "                      labs(x='X (km)', y='Y (km)', color='mu(c_2p)') + \n",
    "                      theme(axis.title = element_text(size=20), \n",
    "                            axis.text.y = element_text(size=20), axis.text.x = element_text(size=20),\n",
    "                            legend.text=element_text(size=20), legend.title=element_text(size=20))\n",
    "\n",
    "pl_c2p_sd_map <- pl_map + geom_point(data=df_coeff, aes(eqX, eqY, color=c_2p_sig)) +\n",
    "                      scale_color_gradientn(colours = rev(rainbow(10))) +\n",
    "                      labs(x='X (km)', y='Y (km)', color='sd(c_2p)') + \n",
    "                      theme(axis.title = element_text(size=20), \n",
    "                            axis.text.y = element_text(size=20), axis.text.x = element_text(size=20),\n",
    "                            legend.text=element_text(size=20), legend.title=element_text(size=20))\n",
    "\n",
    "#spatially varying site adjustment\n",
    "pl_c3s_mu_map <- pl_map + geom_point(data=df_coeff, aes(staX, staY, color=c_3s_mean)) +\n",
    "                      scale_color_gradientn(colours = rainbow(10)) +\n",
    "                      labs(x='X (km)', y='Y (km)', color='mu(c_3s)') + \n",
    "                      theme(axis.title = element_text(size=20), \n",
    "                            axis.text.y = element_text(size=20), axis.text.x = element_text(size=20),\n",
    "                            legend.text=element_text(size=20), legend.title=element_text(size=20))\n",
    "\n",
    "pl_c3s_sd_map <- pl_map + geom_point(data=df_coeff, aes(staX, staY, color=c_3s_sig)) +\n",
    "                      scale_color_gradientn(colours = rev(rainbow(10))) +\n",
    "                      labs(x='X (km)', y='Y (km)', color='sd(c_3s)') + \n",
    "                      theme(axis.title = element_text(size=20), \n",
    "                            axis.text.y = element_text(size=20), axis.text.x = element_text(size=20),\n",
    "                            legend.text=element_text(size=20), legend.title=element_text(size=20))"
   ]
  },
  {
   "cell_type": "code",
   "execution_count": null,
   "id": "23299d9f",
   "metadata": {},
   "outputs": [],
   "source": [
    "print(pl_dc1e_mu_map)\n",
    "print(pl_dc1e_sd_map)"
   ]
  },
  {
   "cell_type": "code",
   "execution_count": null,
   "id": "fd3a3dd0",
   "metadata": {},
   "outputs": [],
   "source": [
    "print(pl_dc1as_mu_map)\n",
    "print(pl_dc1as_sd_map)"
   ]
  },
  {
   "cell_type": "code",
   "execution_count": null,
   "id": "5de04148",
   "metadata": {},
   "outputs": [],
   "source": [
    "print(pl_dc1bs_mu_map)\n",
    "print(pl_dc1bs_sd_map)"
   ]
  },
  {
   "cell_type": "code",
   "execution_count": null,
   "id": "5bd21b81",
   "metadata": {},
   "outputs": [],
   "source": [
    "print(pl_c2p_mu_map)\n",
    "print(pl_c2p_sd_map)"
   ]
  },
  {
   "cell_type": "code",
   "execution_count": null,
   "id": "9f8f2325",
   "metadata": {},
   "outputs": [],
   "source": [
    "print(pl_c3s_mu_map)\n",
    "print(pl_c3s_sd_map)"
   ]
  },
  {
   "cell_type": "markdown",
   "id": "c1447633",
   "metadata": {},
   "source": [
    "### Cell-specific Anelastic Attenuation"
   ]
  },
  {
   "cell_type": "code",
   "execution_count": null,
   "id": "559a5c50",
   "metadata": {},
   "outputs": [],
   "source": [
    "#cell-specific anelastic attenuation: mean versus std \n",
    "pl_c_cap <- ggplot(df_atten, aes(c_cap_sig, c_cap_mean)) + theme_bw() +\n",
    "                geom_point() + geom_hline(yintercept=df_hparam['mean','mu_cap'],linetype=\"dashed\") +\n",
    "                labs(x='sd(c_cap)', y='mu(c_cap)') + \n",
    "                theme(axis.title = element_text(size=20), \n",
    "                      axis.text.y = element_text(size=20), axis.text.x = element_text(size=20))\n",
    "\n",
    "print(pl_c_cap)"
   ]
  },
  {
   "cell_type": "code",
   "execution_count": null,
   "id": "6753e54d",
   "metadata": {},
   "outputs": [],
   "source": [
    "#cell-specific anelastic attenuation map\n",
    "#mean\n",
    "pl_c_cap_mu_map <- pl_map + geom_point(data=df_atten, aes(mptX, mptY, color=c_cap_mean)) +\n",
    "                      scale_color_gradientn(colours = rainbow(10)) +\n",
    "                      labs(x='X (km)', y='Y (km)', color='mu(c_cap)') + \n",
    "                      theme(axis.title = element_text(size=20), \n",
    "                            axis.text.y = element_text(size=20), axis.text.x = element_text(size=20),\n",
    "                            legend.text=element_text(size=20), legend.title=element_text(size=20))\n",
    "#std\n",
    "pl_c_cap_sd_map <- pl_map + geom_point(data=df_atten, aes(mptX, mptY, color=c_cap_sig)) +\n",
    "                      scale_color_gradientn(colours = rainbow(10)) +\n",
    "                      labs(x='X (km)', y='Y (km)', color='sd(c_cap)') + \n",
    "                      theme(axis.title = element_text(size=20), \n",
    "                            axis.text.y = element_text(size=20), axis.text.x = element_text(size=20),\n",
    "                            legend.text=element_text(size=20), legend.title=element_text(size=20))\n",
    "\n",
    "print(pl_c_cap_mu_map)\n",
    "print(pl_c_cap_sd_map)"
   ]
  }
 ],
 "metadata": {
  "authors": [
   {
    "name": "Grigorios Lavrentiadis: NHR3 GRIS UCLA, MCE Caltech"
   },
   {
    "name": "Elnaz Seylabi, CEE UNR"
   },
   {
    "name": "Nicolas Kuehn, NHR3 GRIS UCLA"
   },
   {
    "name": "Xiaofeng Meng: SCEC USC"
   },
   {
    "name": "Yousef Bozorgnia: NHR3 GRIS UCLA"
   },
   {
    "name": "Kottke Albert: PG/&E Geosciences"
   }
  ],
  "kernelspec": {
   "display_name": "R",
   "language": "R",
   "name": "ir"
  },
  "language_info": {
   "codemirror_mode": "r",
   "file_extension": ".r",
   "mimetype": "text/x-r-source",
   "name": "R",
   "pygments_lexer": "r",
   "version": "4.2.1"
  },
  "title": "NGMM Type-2 INLA Regression"
 },
 "nbformat": 4,
 "nbformat_minor": 5
}
