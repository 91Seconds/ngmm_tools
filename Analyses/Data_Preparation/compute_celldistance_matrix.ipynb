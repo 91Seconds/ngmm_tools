{
 "cells": [
  {
   "cell_type": "markdown",
   "id": "c8cdba80",
   "metadata": {
    "tags": []
   },
   "source": [
    "# Cell-Path Distance Matrix\n",
    "This notebook is used to compute the cell-path distance matrix for the cell-specific anelastic attenuation\n",
    "\n",
    "This script was developed as part of the Non-ergodic Methodology and Modeling Tools research project summarized in the report by Lavrentiadis G., Kuehn N., Bozorgnia Y., Seylabi E., Meng X., Goulet C., and Kottke A. (2022), \"Non‐ergodic Methodology and Modeling Tools (Report GIRS-2022-04).\" Natural Hazards Risk and Resiliency Research Center, University of California, Los Angeles.\n",
    "\n",
    "Support provided by the California Department of Transportation (Caltrans) and Pacific Gas and Electric Company (PG&E) is gratefully acknowledged. "
   ]
  },
  {
   "cell_type": "markdown",
   "id": "a07ed416",
   "metadata": {},
   "source": [
    "## Load required libraries"
   ]
  },
  {
   "cell_type": "code",
   "execution_count": null,
   "id": "52017ea9",
   "metadata": {},
   "outputs": [],
   "source": [
    "#load libraries\n",
    "import os\n",
    "import sys\n",
    "import pathlib\n",
    "import numpy as np\n",
    "import pandas as pd\n",
    "from scipy import sparse\n",
    "#geographic libraries\n",
    "import pyproj\n",
    "#jupyter\n",
    "from IPython.display import clear_output\n",
    "#user libraries\n",
    "sys.path.insert(0,'../Python_lib/ground_motions')\n",
    "sys.path.insert(0,'../Python_lib/plotting')\n",
    "import pylib_cell_dist as pylib_cells\n",
    "import pylib_contour_plots as pylib_cplt"
   ]
  },
  {
   "cell_type": "markdown",
   "id": "aa911103",
   "metadata": {},
   "source": [
    "## User Input\n",
    "Define flatfile filename, output directory, and extend of domain ($x$, $y$ and $z$ coordinates)"
   ]
  },
  {
   "cell_type": "code",
   "execution_count": null,
   "id": "1b11eb5d",
   "metadata": {},
   "outputs": [],
   "source": [
    "#ground-motion flatifle name and directory\n",
    "name_flatfile = 'CatalogNGAWest3CALite'\n",
    "dir_flatfile  = '../../Data/Flatfiles/'\n",
    "\n",
    "#flag for UTM coordinates\n",
    "flagUTM = True\n",
    "\n",
    "#cell grid limits (UTM coordinates in km)\n",
    "grid_lims_x = [-200,    800]\n",
    "grid_lims_y = [3450,    4725]\n",
    "grid_lims_z = [-50,     0]\n",
    "\n",
    "#cell size\n",
    "cell_size = [25, 25, 50]\n",
    "\n",
    "#output files\n",
    "dir_out = '../../Data/Data_Preperation/cell_distances/'"
   ]
  },
  {
   "cell_type": "markdown",
   "id": "7193b9f8",
   "metadata": {},
   "source": [
    "## Load Files"
   ]
  },
  {
   "cell_type": "code",
   "execution_count": null,
   "id": "d185d6e9",
   "metadata": {},
   "outputs": [],
   "source": [
    "df_flatfile = pd.read_csv(dir_flatfile + name_flatfile + '.csv')\n",
    "n_rec = len(df_flatfile)\n",
    "print('Number of records:', n_rec)"
   ]
  },
  {
   "cell_type": "markdown",
   "id": "b275b7c1",
   "metadata": {},
   "source": [
    "## Preprocessing "
   ]
  },
  {
   "cell_type": "code",
   "execution_count": null,
   "id": "b7c1cfe6",
   "metadata": {},
   "outputs": [],
   "source": [
    "#define projection system \n",
    "assert(len(np.unique(df_flatfile.UTMzone))==1),'Error. Multiple UTM zones.'\n",
    "utm_zone = df_flatfile.UTMzone[0]\n",
    "if pyproj.__version__ == '2.6.1post1':\n",
    "    utmProj = pyproj.Proj(\"+proj=utm +zone=\"+utm_zone+\", +ellps=WGS84 +datum=WGS84 +units=m +no_defs\")\n",
    "else:\n",
    "    utmProj = pyproj.Proj(\"proj=utm zone=\"+utm_zone[0:-1],\" ellps=WGS84 datum=WGS84 units=m no_defs\")\n",
    "    \n",
    "#create matrix with source and station locations\n",
    "data4celldist = df_flatfile.loc[:,['eqX','eqY','eqZ','staX','staY']].values \n",
    "#add column for elevation for stations, assume 0\n",
    "data4celldist = np.hstack([data4celldist,np.zeros([n_rec,1])])\n",
    "\n",
    "#check that all coordinates are inside the grid\n",
    "assert(np.logical_and(data4celldist[:,[0,3]].min()>=grid_lims_x[0], \n",
    "                      data4celldist[:,[0,3]].max()<=grid_lims_x[1])),\\\n",
    "                      'Error. Events or Sations outside grid cell in x direction.'\n",
    "assert(np.logical_and(data4celldist[:,[1,4]].min()>=grid_lims_y[0], \n",
    "                      data4celldist[:,[1,4]].max()<=grid_lims_y[1])),\\\n",
    "                      'Error. Events or Sations outside grid cell in y direction.'\n",
    "assert(np.logical_and(data4celldist[:,[2,5]].min()>=grid_lims_z[0], \n",
    "                      data4celldist[:,[2,5]].max()<=grid_lims_z[1])),\\\n",
    "                      'Error. Events or Sations outside grid cell in z direction.'"
   ]
  },
  {
   "cell_type": "markdown",
   "id": "c89f5aed",
   "metadata": {},
   "source": [
    "### Cell Vertices Coordinates"
   ]
  },
  {
   "cell_type": "code",
   "execution_count": null,
   "id": "1175e87c",
   "metadata": {},
   "outputs": [],
   "source": [
    "#cell schematic\n",
    "#    (7)-----(8)  (surface, top face)\n",
    "#   / |     / |\n",
    "# (5)-----(6) |\n",
    "#  |  |    |  |\n",
    "#  | (3)---|-(4)  (bottom face)\n",
    "#  |/      |/\n",
    "# (1)-----(2)\n",
    "\n",
    "#grid spacing\n",
    "grid_x = np.arange(grid_lims_x[0], grid_lims_x[1]+0.1, cell_size[0])\n",
    "grid_y = np.arange(grid_lims_y[0], grid_lims_y[1]+0.1, cell_size[1])\n",
    "grid_z = np.arange(grid_lims_z[0], grid_lims_z[1]+0.1, cell_size[2])\n",
    "\n",
    "#create cells\n",
    "cells = []\n",
    "for j1 in range(len(grid_x)-1):\n",
    "    for  j2 in range(len(grid_y)-1):\n",
    "        for j3 in range(len(grid_z)-1):\n",
    "            #cell corners (bottom-face)\n",
    "            cell_c1 = [grid_x[j1],   grid_y[j2],   grid_z[j3]]\n",
    "            cell_c2 = [grid_x[j1+1], grid_y[j2],   grid_z[j3]]\n",
    "            cell_c3 = [grid_x[j1],   grid_y[j2+1], grid_z[j3]]\n",
    "            cell_c4 = [grid_x[j1+1], grid_y[j2+1], grid_z[j3]]\n",
    "            #cell corners (top-face)\n",
    "            cell_c5 = [grid_x[j1],   grid_y[j2],   grid_z[j3+1]]\n",
    "            cell_c6 = [grid_x[j1+1], grid_y[j2],   grid_z[j3+1]]\n",
    "            cell_c7 = [grid_x[j1],   grid_y[j2+1], grid_z[j3+1]]\n",
    "            cell_c8 = [grid_x[j1+1], grid_y[j2+1], grid_z[j3+1]]\n",
    "            #cell center\n",
    "            cell_cent = np.mean(np.stack([cell_c1,cell_c2,cell_c3,cell_c4,\n",
    "                                          cell_c5,cell_c6,cell_c7,cell_c8]),axis = 0).tolist()\n",
    "            #summarize all cell coordinates in a list\n",
    "            cell_info = cell_c1 + cell_c2 + cell_c3 + cell_c4 + \\\n",
    "                        cell_c5 + cell_c6 + cell_c7 + cell_c8 + cell_cent\n",
    "            #add cell info\n",
    "            cells.append(cell_info)\n",
    "del j1, j2, j3, cell_info\n",
    "del cell_c1, cell_c2, cell_c3, cell_c4, cell_c5, cell_c6, cell_c7, cell_c8\n",
    "cells = np.array(cells)\n",
    "n_cells = len(cells)\n",
    "\n",
    "#cell info\n",
    "cell_ids   = np.arange(n_cells)\n",
    "cell_names = ['c.%i'%(i) for i in cell_ids]\n",
    "cell_q_names =  ['q1X','q1Y','q1Z','q2X','q2Y','q2Z','q3X','q3Y','q3Z','q4X','q4Y','q4Z',\n",
    "                 'q5X','q5Y','q5Z','q6X','q6Y','q6Z','q7X','q7Y','q7Z','q8X','q8Y','q8Z',\n",
    "                 'mptX','mptY','mptZ']"
   ]
  },
  {
   "cell_type": "markdown",
   "id": "40049c89",
   "metadata": {},
   "source": [
    "### Cell Info Dataframe"
   ]
  },
  {
   "cell_type": "code",
   "execution_count": null,
   "id": "816bdadc",
   "metadata": {},
   "outputs": [],
   "source": [
    "#cell names\n",
    "df_data1 = pd.DataFrame({'cellid': cell_ids, 'cellname': cell_names})\n",
    "#cell coordinates\n",
    "df_data2 = pd.DataFrame(cells, columns = cell_q_names)\n",
    "df_cellinfo  = pd.merge(df_data1,df_data2,left_index=True,right_index=True)\n",
    "del df_data1, df_data2\n",
    "# add cell utm zone\n",
    "df_cellinfo.loc[:,'UTMzone'] = utm_zone\n",
    "\n",
    "#cell lat\\lon verticies\n",
    "for q in range(1,9):\n",
    "    c_X      = ['q%iX'%q,   'q%iY'%q]\n",
    "    c_latlon = ['q%iLat'%q, 'q%iLon'%q]\n",
    "    \n",
    "    df_cellinfo.loc[:,c_latlon]  = np.flip( np.array([utmProj(pt_xy[0]*1e3, pt_xy[1]*1e3, inverse=True) \n",
    "                                                      for _, pt_xy in df_cellinfo[c_X].iterrows() ]),   axis=1)\n",
    "#cell midpoints\n",
    "c_X      = ['mptX',  'mptY']\n",
    "c_latlon = ['mptLat','mptLon']\n",
    "df_cellinfo.loc[:,c_latlon]  = np.flip( np.array([utmProj(pt_xy[0]*1e3, pt_xy[1]*1e3, inverse=True) \n",
    "                                                  for _, pt_xy in df_cellinfo[c_X].iterrows() ]),   axis=1)"
   ]
  },
  {
   "cell_type": "markdown",
   "id": "807fd968",
   "metadata": {},
   "source": [
    "## Compute Cell-Path Distance Matrix"
   ]
  },
  {
   "cell_type": "code",
   "execution_count": null,
   "id": "346b2aff",
   "metadata": {},
   "outputs": [],
   "source": [
    "cells4dist  = cells[:,[0,1,2,21,22,23]] \n",
    "distancematrix  = np.zeros([len(data4celldist), len(cells4dist)])\n",
    "for i in range(len(data4celldist)):\n",
    "    clear_output(wait=True)\n",
    "    print('Computing cell distances, record:',i)\n",
    "    pt1 = data4celldist[i,(0,1,2)]\n",
    "    pt2 = data4celldist[i,(3,4,5)]\n",
    "  \n",
    "    dm = pylib_cells.ComputeDistGridCells(pt1,pt2,cells4dist, flagUTM)\n",
    "    distancematrix[i] = dm\n",
    "    \n",
    "#print Rrup missfits\n",
    "dist_diff = df_flatfile.Rrup - distancematrix.sum(axis=1)\n",
    "clear_output(wait=True)\n",
    "print('Cell distance calculation completed')\n",
    "print('max R_rup misfit', max(dist_diff.abs()))\n",
    "\n",
    "#convert cell distances to sparse matrix\n",
    "distmatrix_sparce = sparse.coo_matrix(distancematrix)\n",
    "\n",
    "#cell distances data-frame\n",
    "#gm record info\n",
    "df_recinfo = df_flatfile[['rsn','eqid','ssn']]\n",
    "\n",
    "#cell distances\n",
    "df_celldist = pd.DataFrame(distancematrix, columns = cell_names)\n",
    "df_celldist = pd.merge(df_recinfo, df_celldist, left_index=True, right_index=True)\n",
    "\n",
    "#spase cell distances dataframe\n",
    "df_celldist_sp = pd.DataFrame({'row':  distmatrix_sparce.row+1, \n",
    "                               'col':  distmatrix_sparce.col+1, \n",
    "                               'data': distmatrix_sparce.data})"
   ]
  },
  {
   "cell_type": "markdown",
   "id": "73485f56",
   "metadata": {},
   "source": [
    "## Save Data"
   ]
  },
  {
   "cell_type": "code",
   "execution_count": null,
   "id": "72ffdeb5",
   "metadata": {},
   "outputs": [],
   "source": [
    "#create output directory\n",
    "if not os.path.isdir(dir_out): pathlib.Path(dir_out).mkdir(parents=True, exist_ok=True) \n",
    "\n",
    "#save cell info\n",
    "name_cellinfo = name_flatfile + '_cellinfo'\n",
    "df_cellinfo.to_csv(dir_out + name_cellinfo + '.csv', index=False)\n",
    "\n",
    "#save distance metrics\n",
    "name_celldist = name_flatfile + '_distancematrix'\n",
    "df_celldist.to_csv(dir_out + name_celldist + '.csv', index=False)\n",
    "\n",
    "#save distance matrix as sparce\n",
    "name_celldist = name_flatfile + '_distancematrix_sparce'\n",
    "df_celldist_sp.to_csv(dir_out + name_celldist + '.csv', index=False)"
   ]
  },
  {
   "cell_type": "markdown",
   "id": "7f880ade",
   "metadata": {},
   "source": [
    "## Summary Figures"
   ]
  },
  {
   "cell_type": "markdown",
   "id": "792ad80a",
   "metadata": {},
   "source": [
    "### Figures Options"
   ]
  },
  {
   "cell_type": "code",
   "execution_count": null,
   "id": "a9f945d7",
   "metadata": {},
   "outputs": [],
   "source": [
    "#plot limits\n",
    "fig_latlon_win = np.array([[31, -126],[43.5, -113]])\n",
    "#fig_latlon_win = np.array([[32, -125],[42.5, -114]])\n",
    "\n",
    "#color limits for number of paths\n",
    "cmin = 0\n",
    "cmax = 2000\n",
    "\n",
    "#flag log scale for number of paths\n",
    "flag_logscl = True"
   ]
  },
  {
   "cell_type": "markdown",
   "id": "a19b3fbb",
   "metadata": {},
   "source": [
    "### Figure Info Summary"
   ]
  },
  {
   "cell_type": "code",
   "execution_count": null,
   "id": "c5747fd2",
   "metadata": {},
   "outputs": [],
   "source": [
    "#earthquake and station ids\n",
    "eq_id, eq_idx_inv   = np.unique(df_flatfile['eqid'].values.astype(int), return_index=True)\n",
    "sta_id, sta_idx_inv = np.unique(df_flatfile['ssn'].values.astype(int),  return_index=True)\n",
    "\n",
    "#earthquake and station coordinates\n",
    "eq_latlon   = df_flatfile[['eqLat',  'eqLon']].values[eq_idx_inv,:]\n",
    "stat_latlon = df_flatfile[['staLat', 'staLon']].values[sta_idx_inv,:]\n",
    "\n",
    "#cell coordinates\n",
    "cell_latlon_mpt  = df_cellinfo[['mptLat','mptLon']].values\n",
    "cell_latlon_edge = df_cellinfo[['q5Lat','q5Lon','q6Lat','q6Lon','q8Lat','q8Lon', \n",
    "                                'q7Lat','q7Lon','q5Lat','q5Lon']].values\n",
    "\n",
    "#number of paths per cell\n",
    "cell_n_paths = (distancematrix > 0).sum(axis=0)"
   ]
  },
  {
   "cell_type": "markdown",
   "id": "a184a2c2",
   "metadata": {},
   "source": [
    "### Plotting"
   ]
  },
  {
   "cell_type": "code",
   "execution_count": null,
   "id": "314bc94e",
   "metadata": {},
   "outputs": [],
   "source": [
    "# Plot cell paths\n",
    "# ---   ---   ---   ---\n",
    "fname_fig = 'cA_paths'\n",
    "fig, ax, data_crs, gl = pylib_cplt.PlotMap()\n",
    "#plot earthquake and station locations\n",
    "ax.plot(eq_latlon[:,1],   eq_latlon[:,0],   '*', transform=data_crs, markersize=10, zorder=13, label='Events')\n",
    "ax.plot(stat_latlon[:,1], stat_latlon[:,0], 'o', transform=data_crs, markersize=6,  zorder=12, label='Stations')\n",
    "#plot earthquake-station paths\n",
    "for rec in df_flatfile[['eqLat','eqLon','staLat','staLon']].iterrows():\n",
    "    ax.plot(rec[1][['eqLon','staLon']], rec[1][['eqLat','staLat']], \n",
    "            transform = data_crs, color = 'gray', linewidth=0.05, zorder=10, alpha=0.2)\n",
    "#plot cells\n",
    "for ce_xy in cell_latlon_edge:\n",
    "    ax.plot(ce_xy[[1,3,5,7,9]],ce_xy[[0,2,4,6,8]], color='gray', transform=data_crs)\n",
    "#figure limits\n",
    "#ax.set_xlim( fig_latlon_win[:,1] )\n",
    "#ax.set_ylim( fig_latlon_win[:,0] )\n",
    "#grid lines\n",
    "gl = ax.gridlines(draw_labels=True)\n",
    "gl.top_labels   = False\n",
    "gl.right_labels = False\n",
    "gl.xlabel_style = {'size': 25}\n",
    "gl.ylabel_style = {'size': 25}\n",
    "#add legend\n",
    "ax.legend(fontsize=25, loc='lower left')\n",
    "#apply tight layout\n",
    "#fig.show()\n",
    "fig.tight_layout()\n",
    "fig.savefig( dir_out + fname_fig + '.png')\n",
    "\n",
    "# Plot cell paths\n",
    "# ---   ---   ---   ---\n",
    "fname_fig = 'cA_num_paths'\n",
    "cbar_label = 'Number of paths'\n",
    "data2plot = np.vstack([cell_latlon_mpt.T, cell_n_paths]).T\n",
    "#log scale options\n",
    "if flag_logscl:\n",
    "    cmin = np.log(1)\n",
    "    cmax = np.log(cmax)\n",
    "#create figure\n",
    "fig, ax, cbar, data_crs, gl = pylib_cplt.PlotCellsCAMap(data2plot, cmin=cmin,  cmax=cmax, \n",
    "                                                        log_cbar=flag_logscl,\n",
    "                                                        frmt_clb='%.0f',  cmap='OrRd')\n",
    "#plot cells\n",
    "for ce_xy in cell_latlon_edge:\n",
    "    ax.plot(ce_xy[[1,3,5,7,9]],ce_xy[[0,2,4,6,8]], color='gray', transform=data_crs)\n",
    "#figure limits\n",
    "#ax.set_xlim( fig_latlon_win[:,1] )\n",
    "#ax.set_ylim( fig_latlon_win[:,0] )\n",
    "#grid lines\n",
    "gl = ax.gridlines(draw_labels=True)\n",
    "gl.top_labels   = False\n",
    "gl.right_labels = False\n",
    "gl.xlabel_style = {'size': 25}\n",
    "gl.ylabel_style = {'size': 25}\n",
    "#update colorbar \n",
    "cbar.set_label(cbar_label, size=30)\n",
    "cbar.ax.tick_params(labelsize=25)\n",
    "#apply tight layout\n",
    "#fig.show()\n",
    "fig.tight_layout()\n",
    "fig.savefig( dir_out + fname_fig + '.png')"
   ]
  }
 ],
 "metadata": {
  "authors": [
   {
    "name": "Grigorios Lavrentiadis: NHR3 GRIS UCLA, MCE Caltech"
   },
   {
    "name": "Elnaz Seylabi, CEE UNR"
   },
   {
    "name": "Nicolas Kuehn, NHR3 GRIS UCLA"
   },
   {
    "name": "Xiaofeng Meng: SCEC USC"
   },
   {
    "name": "Yousef Bozorgnia: NHR3 GRIS UCLA"
   },
   {
    "name": "Kottke Albert: PG/&E Geosciences"
   }
  ],
  "kernelspec": {
   "display_name": "Python 3 (ipykernel)",
   "language": "python",
   "name": "python3"
  },
  "language_info": {
   "codemirror_mode": {
    "name": "ipython",
    "version": 3
   },
   "file_extension": ".py",
   "mimetype": "text/x-python",
   "name": "python",
   "nbconvert_exporter": "python",
   "pygments_lexer": "ipython3",
   "version": "3.8.13"
  },
  "title": "Calculation of cell-path distance matrix"
 },
 "nbformat": 4,
 "nbformat_minor": 5
}
