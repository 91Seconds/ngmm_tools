{
 "cells": [
  {
   "cell_type": "markdown",
   "id": "c8cdba80",
   "metadata": {
    "tags": []
   },
   "source": [
    "# Cell-Path Distance Matrix\n",
    "This notebook is used to compute the cell-path distance matrix for the cell-specific anelastic attenuation\n",
    "\n",
    "This script was developed as part of the Non-ergodic Methodology and Modeling Tools research project summarized in the report by Lavrentiadis G., Kuehn N., Bozorgnia Y., Seylabi E., Meng X., Goulet C., and Kottke A. (2022), \"Non‐ergodic Methodology and Modeling Tools (Report GIRS-2022-04).\" Natural Hazards Risk and Resiliency Research Center, University of California, Los Angeles.\n",
    "\n",
    "Support provided by the California Department of Transportation (Caltrans) and Pacific Gas and Electric Company (PG&E) is gratefully acknowledged. "
   ]
  },
  {
   "cell_type": "markdown",
   "id": "a07ed416",
   "metadata": {},
   "source": [
    "## Load required libraries"
   ]
  },
  {
   "cell_type": "code",
   "execution_count": null,
   "id": "52017ea9",
   "metadata": {},
   "outputs": [],
   "source": [
    "# load libraries\n",
    "import os\n",
    "import sys\n",
    "import pathlib\n",
    "import numpy as np\n",
    "import pandas as pd\n",
    "from scipy import sparse\n",
    "\n",
    "# geographic libraries\n",
    "import pyproj\n",
    "\n",
    "# jupyter\n",
    "from IPython.display import clear_output"
   ]
  },
  {
   "cell_type": "markdown",
   "id": "aa911103",
   "metadata": {},
   "source": [
    "## User Input\n",
    "Define flatfile filename, output directory, and extend of domain ($x$, $y$ and $z$ coordinates)"
   ]
  },
  {
   "cell_type": "code",
   "execution_count": null,
   "id": "1b11eb5d",
   "metadata": {},
   "outputs": [],
   "source": [
    "# ground-motion flatifle name and directory\n",
    "name_flatfile = \"Atkinson_resid_trim_inside\"\n",
    "dir_flatfile = \"../../Data/\"\n",
    "\n",
    "# flag for UTM coordinates\n",
    "flagUTM = True\n",
    "\n",
    "# cell grid limits (UTM coordinates in km)\n",
    "grid_lims_x = [-400, 700]\n",
    "grid_lims_y = [4500, 6400]\n",
    "grid_lims_z = [-50, 0]\n",
    "\n",
    "# cell size\n",
    "cell_size = [25, 25, 50]\n",
    "utm_zone = \"60S\"\n",
    "\n",
    "# output files\n",
    "dir_out = \"../../Data/Data_Preperation/nz_cell_distances/\""
   ]
  },
  {
   "cell_type": "markdown",
   "id": "7193b9f8",
   "metadata": {},
   "source": [
    "## Load Files"
   ]
  },
  {
   "cell_type": "code",
   "execution_count": null,
   "id": "d185d6e9",
   "metadata": {},
   "outputs": [],
   "source": [
    "df_flatfile = pd.read_csv(dir_flatfile + name_flatfile + \".csv\")\n",
    "# df_flatfile = df_flatfile[df_flatfile['eqLon'] > 165] \n",
    "# df_flatfile = df_flatfile[df_flatfile['staLon'] > 165] \n",
    "# df_flatfile = df_flatfile[df_flatfile['eqLon'] < 179.2] \n",
    "# df_flatfile = df_flatfile[df_flatfile['staLon'] < 179.2] \n",
    "# df_flatfile = df_flatfile[df_flatfile['eqLat'] > -49] \n",
    "# df_flatfile = df_flatfile[df_flatfile['staLat'] > -49] \n",
    "# df_flatfile = df_flatfile[df_flatfile['eqLat'] < -32] \n",
    "# df_flatfile = df_flatfile[df_flatfile['staLat'] < -32] \n",
    "# df_flatfile.to_csv(\"../../Data/Atkinson_resid_trim_inside.csv\")\n",
    "\n",
    "n_rec = len(df_flatfile)\n",
    "print(\"Number of records:\", n_rec)"
   ]
  },
  {
   "cell_type": "markdown",
   "id": "b275b7c1",
   "metadata": {},
   "source": [
    "## Preprocessing "
   ]
  },
  {
   "cell_type": "markdown",
   "id": "c89f5aed",
   "metadata": {},
   "source": [
    "### Cell Vertices Coordinates"
   ]
  },
  {
   "cell_type": "code",
   "execution_count": null,
   "id": "1175e87c",
   "metadata": {},
   "outputs": [],
   "source": [
    "from Analyses.Data_Preparation import Cells, get_source_station_matrix\n",
    "\n",
    "cells = Cells.from_bounds(\n",
    "    utm_zone=utm_zone,\n",
    "    grid_lims_x=grid_lims_x,\n",
    "    grid_lims_y=grid_lims_y,\n",
    "    grid_lims_z=grid_lims_z,\n",
    "    cell_size=cell_size,\n",
    ")\n",
    "df_cellinfo = cells.to_dataframe()\n",
    "data4celldist = get_source_station_matrix(cells, df_flatfile)"
   ]
  },
  {
   "cell_type": "markdown",
   "id": "807fd968",
   "metadata": {},
   "source": [
    "## Compute Cell-Path Distance Matrix"
   ]
  },
  {
   "cell_type": "code",
   "execution_count": null,
   "id": "346b2aff",
   "metadata": {},
   "outputs": [],
   "source": [
    "from Analyses.Python_lib.ground_motions import pylib_cell_dist\n",
    "\n",
    "\n",
    "cells4dist = cells.cells[:, [0, 1, 2, 21, 22, 23]]\n",
    "distancematrix = np.zeros([len(data4celldist), len(cells4dist)])\n",
    "for i in range(len(data4celldist)):\n",
    "    clear_output(wait=True)\n",
    "    print(\"Computing cell distances, record:\", i)\n",
    "    pt1 = data4celldist[i, (0, 1, 2)]\n",
    "    pt2 = data4celldist[i, (3, 4, 5)]\n",
    "\n",
    "    dm = pylib_cell_dist.ComputeDistGridCells(pt1, pt2, cells4dist, flagUTM)\n",
    "    distancematrix[i] = dm\n",
    "\n",
    "# print Rrup missfits\n",
    "dist_diff = df_flatfile.Rrup - distancematrix.sum(axis=1)\n",
    "clear_output(wait=True)\n",
    "print(\"Cell distance calculation completed\")\n",
    "print(\"max R_rup misfit\", max(dist_diff.abs()))\n",
    "\n",
    "# convert cell distances to sparse matrix\n",
    "distmatrix_sparce = sparse.coo_matrix(distancematrix)\n",
    "\n",
    "# cell distances data-frame\n",
    "# gm record info\n",
    "df_recinfo = df_flatfile[[\"rsn\", \"eqid\", \"ssn\"]]\n",
    "\n",
    "# cell distances\n",
    "df_celldist = pd.DataFrame(distancematrix, columns=cells.cell_names)\n",
    "df_celldist = pd.merge(df_recinfo, df_celldist, left_index=True, right_index=True)\n",
    "\n",
    "# spase cell distances dataframe\n",
    "df_celldist_sp = pd.DataFrame(\n",
    "    {\n",
    "        \"row\": distmatrix_sparce.row + 1,\n",
    "        \"col\": distmatrix_sparce.col + 1,\n",
    "        \"data\": distmatrix_sparce.data,\n",
    "    }\n",
    ")"
   ]
  },
  {
   "cell_type": "markdown",
   "id": "73485f56",
   "metadata": {},
   "source": [
    "## Save Data"
   ]
  },
  {
   "cell_type": "code",
   "execution_count": null,
   "id": "72ffdeb5",
   "metadata": {},
   "outputs": [],
   "source": [
    "# create output directory\n",
    "if not os.path.isdir(dir_out):\n",
    "    pathlib.Path(dir_out).mkdir(parents=True, exist_ok=True)\n",
    "\n",
    "# save cell info\n",
    "name_cellinfo = name_flatfile + \"_cellinfo\"\n",
    "# df_cellinfo.to_csv(dir_out + name_cellinfo + \".csv\", index=False)\n",
    "\n",
    "# save distance metrics\n",
    "name_celldist = name_flatfile + \"_distancematrix\"\n",
    "df_celldist.to_csv(dir_out + name_celldist + \".csv\", index=False)\n",
    "\n",
    "# save distance matrix as sparce\n",
    "name_celldist = name_flatfile + \"_distancematrix_sparce\"\n",
    "df_celldist_sp.to_csv(dir_out + name_celldist + \".csv\", index=False)"
   ]
  },
  {
   "cell_type": "markdown",
   "id": "7f880ade",
   "metadata": {},
   "source": [
    "## Summary Figures"
   ]
  },
  {
   "cell_type": "markdown",
   "id": "792ad80a",
   "metadata": {},
   "source": [
    "### Figures Options"
   ]
  },
  {
   "cell_type": "code",
   "execution_count": null,
   "id": "a9f945d7",
   "metadata": {},
   "outputs": [],
   "source": [
    "# plot limits\n",
    "fig_latlon_win = np.array([[31, -126], [43.5, -113]])\n",
    "# fig_latlon_win = np.array([[32, -125],[42.5, -114]])\n",
    "fig_latlon_win = np.array([[-30, 160], [-60, 180]])\n",
    "\n",
    "# color limits for number of paths\n",
    "cmin = 0\n",
    "cmax = 2000\n",
    "\n",
    "# flag log scale for number of paths\n",
    "flag_logscl = True"
   ]
  },
  {
   "cell_type": "markdown",
   "id": "a19b3fbb",
   "metadata": {},
   "source": [
    "### Figure Info Summary"
   ]
  },
  {
   "cell_type": "code",
   "execution_count": null,
   "id": "c5747fd2",
   "metadata": {},
   "outputs": [],
   "source": [
    "# earthquake and station ids\n",
    "eq_id, eq_idx_inv = np.unique(df_flatfile[\"eqid\"].values.astype(int), return_index=True)\n",
    "sta_id, sta_idx_inv = np.unique(\n",
    "    df_flatfile[\"ssn\"].values.astype(int), return_index=True\n",
    ")\n",
    "\n",
    "# earthquake and station coordinates\n",
    "eq_latlon = df_flatfile[[\"eqLat\", \"eqLon\"]].values[eq_idx_inv, :]\n",
    "stat_latlon = df_flatfile[[\"staLat\", \"staLon\"]].values[sta_idx_inv, :]\n",
    "\n",
    "# cell coordinates\n",
    "cell_latlon_mpt = df_cellinfo[[\"mptLat\", \"mptLon\"]].values\n",
    "cell_latlon_edge = df_cellinfo[\n",
    "    [\n",
    "        \"q5Lat\",\n",
    "        \"q5Lon\",\n",
    "        \"q6Lat\",\n",
    "        \"q6Lon\",\n",
    "        \"q8Lat\",\n",
    "        \"q8Lon\",\n",
    "        \"q7Lat\",\n",
    "        \"q7Lon\",\n",
    "        \"q5Lat\",\n",
    "        \"q5Lon\",\n",
    "    ]\n",
    "].values\n",
    "\n",
    "# number of paths per cell\n",
    "cell_n_paths = (distancematrix > 0).sum(axis=0)"
   ]
  },
  {
   "cell_type": "code",
   "execution_count": null,
   "id": "5559cef5",
   "metadata": {},
   "outputs": [],
   "source": [
    "cells.to_dataframe()\n",
    "# dir_out\n",
    "# eq_latlon[:, 0]\n",
    "# stat_latlon\n",
    "# cell_latlon_edge.min()"
   ]
  },
  {
   "cell_type": "markdown",
   "id": "a184a2c2",
   "metadata": {},
   "source": [
    "### Plotting"
   ]
  },
  {
   "cell_type": "code",
   "execution_count": null,
   "id": "314bc94e",
   "metadata": {},
   "outputs": [],
   "source": [
    "# Plot cell paths\n",
    "from Analyses.Python_lib.plotting import pylib_contour_plots as pylib_cplt\n",
    "# ---   ---   ---   ---\n",
    "fname_fig = \"cA_paths\"\n",
    "fig, ax, data_crs, gl = pylib_cplt.PlotMap()\n",
    "# plot earthquake and station locations\n",
    "ax.plot(\n",
    "    eq_latlon[:, 1],\n",
    "    eq_latlon[:, 0],\n",
    "    \"*\",\n",
    "    transform=data_crs,\n",
    "    markersize=10,\n",
    "    zorder=13,\n",
    "    label=\"Events\",\n",
    ")\n",
    "ax.plot(\n",
    "    stat_latlon[:, 1],\n",
    "    stat_latlon[:, 0],\n",
    "    \"o\",\n",
    "    transform=data_crs,\n",
    "    markersize=6,\n",
    "    zorder=12,\n",
    "    label=\"Stations\",\n",
    ")\n",
    "# plot earthquake-station paths\n",
    "for rec in df_flatfile[[\"eqLat\", \"eqLon\", \"staLat\", \"staLon\"]].iterrows():\n",
    "    ax.plot(\n",
    "        rec[1][[\"eqLon\", \"staLon\"]],\n",
    "        rec[1][[\"eqLat\", \"staLat\"]],\n",
    "        transform=data_crs,\n",
    "        color=\"gray\",\n",
    "        linewidth=0.05,\n",
    "        zorder=10,\n",
    "        alpha=0.2,\n",
    "    )\n",
    "# plot cells\n",
    "for ce_xy in cell_latlon_edge:\n",
    "    ax.plot(\n",
    "        ce_xy[[1, 3, 5, 7, 9]], ce_xy[[0, 2, 4, 6, 8]], color=\"gray\", transform=data_crs\n",
    "    )\n",
    "# figure limits\n",
    "# ax.set_xlim( fig_latlon_win[:,1] )\n",
    "# ax.set_ylim( fig_latlon_win[:,0] )\n",
    "# grid lines\n",
    "gl = ax.gridlines(draw_labels=True)\n",
    "gl.top_labels = False\n",
    "gl.right_labels = False\n",
    "gl.xlabel_style = {\"size\": 25}\n",
    "gl.ylabel_style = {\"size\": 25}\n",
    "# add legend\n",
    "ax.legend(fontsize=25, loc=\"lower left\")\n",
    "# apply tight layout\n",
    "# fig.show()\n",
    "fig.tight_layout()\n",
    "fig.savefig(dir_out + fname_fig + \".png\")\n",
    "\n",
    "# Plot cell paths\n",
    "# ---   ---   ---   ---\n",
    "fname_fig = \"cA_num_paths\"\n",
    "cbar_label = \"Number of paths\"\n",
    "data2plot = np.vstack([cell_latlon_mpt.T, cell_n_paths]).T\n",
    "# log scale options\n",
    "if flag_logscl:\n",
    "    cmin = np.log(1)\n",
    "    cmax = np.log(cmax)\n",
    "# create figure\n",
    "fig, ax, cbar, data_crs, gl = pylib_cplt.PlotCellsCAMap(\n",
    "    data2plot, cmin=cmin, cmax=cmax, log_cbar=flag_logscl, frmt_clb=\"%.0f\", cmap=\"OrRd\"\n",
    ")\n",
    "# plot cells\n",
    "for ce_xy in cell_latlon_edge:\n",
    "    ax.plot(\n",
    "        ce_xy[[1, 3, 5, 7, 9]], ce_xy[[0, 2, 4, 6, 8]], color=\"gray\", transform=data_crs\n",
    "    )\n",
    "# figure limits\n",
    "# ax.set_xlim( fig_latlon_win[:,1] )\n",
    "# ax.set_ylim( fig_latlon_win[:,0] )\n",
    "# grid lines\n",
    "gl = ax.gridlines(draw_labels=True)\n",
    "gl.top_labels = False\n",
    "gl.right_labels = False\n",
    "gl.xlabel_style = {\"size\": 25}\n",
    "gl.ylabel_style = {\"size\": 25}\n",
    "# update colorbar\n",
    "cbar.set_label(cbar_label, size=30)\n",
    "cbar.ax.tick_params(labelsize=25)\n",
    "# apply tight layout\n",
    "# fig.show()\n",
    "fig.tight_layout()\n",
    "fig.savefig(dir_out + fname_fig + \".png\")"
   ]
  }
 ],
 "metadata": {
  "authors": [
   {
    "name": "Grigorios Lavrentiadis: NHR3 GRIS UCLA, MCE Caltech"
   },
   {
    "name": "Elnaz Seylabi, CEE UNR"
   },
   {
    "name": "Nicolas Kuehn, NHR3 GRIS UCLA"
   },
   {
    "name": "Xiaofeng Meng: SCEC USC"
   },
   {
    "name": "Yousef Bozorgnia: NHR3 GRIS UCLA"
   },
   {
    "name": "Kottke Albert: PG/&E Geosciences"
   }
  ],
  "kernelspec": {
   "display_name": "Python 3 (ipykernel)",
   "language": "python",
   "name": "python3"
  },
  "language_info": {
   "codemirror_mode": {
    "name": "ipython",
    "version": 3
   },
   "file_extension": ".py",
   "mimetype": "text/x-python",
   "name": "python",
   "nbconvert_exporter": "python",
   "pygments_lexer": "ipython3",
   "version": "3.10.12"
  },
  "title": "Calculation of cell-path distance matrix"
 },
 "nbformat": 4,
 "nbformat_minor": 5
}
